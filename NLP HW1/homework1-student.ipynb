{
 "cells": [
  {
   "cell_type": "markdown",
   "metadata": {},
   "source": [
    "# 50.040 Natural Language Processing (Summer 2021) Homework 1\n",
    "\n",
    "**Due 3rd June 2022, 5pm**"
   ]
  },
  {
   "cell_type": "markdown",
   "metadata": {},
   "source": [
    "\n",
    "### STUDENT ID: 1004335\n",
    "\n",
    "### Name: Dody Senputra\n",
    "\n",
    "### Students with whom you have discussed (if any):"
   ]
  },
  {
   "cell_type": "code",
   "execution_count": 140,
   "metadata": {
    "pycharm": {
     "is_executing": true,
     "name": "#%%\n"
    }
   },
   "outputs": [],
   "source": [
    "import numpy as np\n",
    "import math\n",
    "from sklearn.decomposition import PCA\n",
    "from sklearn.decomposition import TruncatedSVD\n",
    "from matplotlib import pyplot as plt\n",
    "from gensim.models import Word2Vec\n",
    "import time\n",
    "# import numba"
   ]
  },
  {
   "cell_type": "markdown",
   "metadata": {},
   "source": [
    "## Introduction\n",
    "Word embeddings are dense vectors that represent words, and capable of capturing semantic and syntactic similarity, relation with other words, etc.\n",
    "We have introduced two approaches in the class to learn word embeddings: **Count-based** and **Prediction-based**. \n",
    "Here we will explore both approaches. Note that we use \"word embeddings\" and \"word vectors\" interchangeably.\n",
    "\n",
    "-------\n",
    "\n",
    "Before we start, you need to [download](https://s3.amazonaws.com/research.metamind.io/wikitext/wikitext-2-v1.zip) the WikiText-2 dataset. Unzip the file and then put it under the \"data\" folder. The WikiText-2 dataset consists of multiple lines of long text. Please do not change the data unless you are requested to do so.\n",
    "\n",
    "Environment:\n",
    "- Python 3.5 or above\n",
    "- gensim \n",
    "- sklearn\n",
    "- numpy "
   ]
  },
  {
   "cell_type": "markdown",
   "metadata": {},
   "source": [
    "## 1. Count-Based Word Embeddings\n",
    "\n",
    "### Co-Occurrence \n",
    "\n",
    "A co-occurrence matrix counts how often things co-occur in some environment. Given some word $w_i$ occurring in the document, we consider the *context window* surrounding $w_i$. Supposing our fixed window size is $n$, then this is the $n$ preceding and $n$ subsequent words in that document, i.e. words $w_{i-n} \\dots w_{i-1}$ and $w_{i+1} \\dots w_{i+n}$. We build a *co-occurrence matrix* $M$, which is a symmetric word-by-word matrix in which $m_{ij}$ is the number of times $w_j$ appears inside $w_i$'s window.\n",
    "\n",
    "**Example: Co-Occurrence with Fixed Window of n=1**:\n",
    "\n",
    "Document 1: \"learn and live\"\n",
    "\n",
    "Document 2: \"learn not and know not\"\n",
    "\n",
    "|     *    | and | know | learn | live | not |\n",
    "|----------|-----|------|-------|------|-----|\n",
    "| and      | 0   | 1    | 1     | 1    | 1   |\n",
    "| know     | 1   | 0    | 0     | 0    | 1   |\n",
    "| learn    | 1   | 0    | 0     | 0    | 1   |\n",
    "| live     | 1   | 0    | 0     | 0    | 0   |\n",
    "| not      | 1   | 1    | 1     | 0    | 0   |\n",
    " \n",
    "### Normalized Pointwise Mutual Information \n",
    "#### Pointwise Mutual Information (Prelude)\n",
    "Pointwise mutual information (PMI) is one of the most important concepts in NLP. The pointwise mutual information between a target word $w$ and a context word $c$ is defined as:\n",
    "\\begin{align}\n",
    "\\operatorname{PMI}(w, c)=\\log _{2} \\frac{P(w, c)}{P(w) P(c)}\n",
    "\\end{align}\n",
    "\n",
    "Given co-occurrence matrix $\\mathbf M\\in{\\mathbb Z}^{N\\times N}$ of $N$ words, $m_{ij}$ is the element of $i$ th row and $j$ th column. The PMI matrix can be calculated as \n",
    "\n",
    "\\begin{align}\n",
    "\\operatorname{PMI}_{i j}=\\log _{2} \\frac{p_{i j}}{p_{i *} p_{* j}}\n",
    "\\end{align}\n",
    "\n",
    "where \n",
    "\n",
    "\\begin{align}\n",
    "p_{i j}=\\frac{m_{i j}}{\\sum_{i=1}^{N} \\sum_{j=1}^{N} m_{i j}}\\quad  p_{i *}=\\frac{\\sum_{j=1}^{N} m_{i j}}{\\sum_{i=1}^{N} \\sum_{j=1}^{N} m_{i j}} \\quad p_{* j}=\\frac{\\sum_{i=1}^{N} m_{i j}}{\\sum_{i=1}^{N} \\sum_{j=1}^{N} m_{i j}}\n",
    "\\end{align}\n",
    "\n",
    "For the details of PMI, please refer to https://web.stanford.edu/~jurafsky/slp3/6.pdf. \n",
    "\n",
    "#### Normalized Pointwise Mutual Information\n",
    "In addition to PMI, pointwise mutual information can be normalized between [-1, +1]. The normalized mutual information between a target word $w$ and a context word $c$ is defined as:\n",
    "\n",
    "\\begin{align}\n",
    "\\operatorname{NPMI}(w, c) = \\frac{pmi(w, c)}{h(w, c)}\n",
    "\\end{align}\n",
    "\n",
    "where $h(x, y)$ is a joint self-information, which can estimated as $-\\log_{2}P(w,c)$\n",
    "\n",
    "### Principal Components Analysis (PCA) and Truncated Singular Value Decomposition (Truncated SVD) \n",
    "The rows (or columns) of co-occurrence matrix or PPMI matrix can be utilized as word vectors, but the vectors will be large in general (linear in the number of distinct words in a corpus). Thus, our next step is to run dimensionality reduction. In particular, we will first run PCA (Principal Components Analysis) to reduce the dimension. In practice, it is challenging to apply PCA to large corpora because of the memory needed to perform PCA. However, if you only want the top $k$ vector components for relatively small $k$ — known as Truncated SVD — then there are reasonably scalable techniques to compute those iteratively."
   ]
  },
  {
   "cell_type": "markdown",
   "metadata": {},
   "source": [
    "### Read Corpus\n",
    "\n",
    "Before you start, please make sure you have downloaded the dataset \"WikiText-2\" in the introduction."
   ]
  },
  {
   "cell_type": "code",
   "execution_count": 141,
   "metadata": {
    "pycharm": {
     "is_executing": true
    },
    "scrolled": true
   },
   "outputs": [],
   "source": [
    "import string\n",
    "\n",
    "def read_corpus(file_path, size=50000):\n",
    "    '''\n",
    "    params:\n",
    "        file_path --- str: path to your data file.\n",
    "        size --- int or str: the size of the corpus\n",
    "    return:\n",
    "        corpus --- list[str]: list of word strings.\n",
    "    '''\n",
    "    with open(file_path, 'r') as f:\n",
    "        text = f.read()\n",
    "        if size=='all':\n",
    "            corpus = text.split()\n",
    "        else:\n",
    "            corpus = text.split()[:size]\n",
    "        \n",
    "        # ignores the <unk> tokens and punctuations\n",
    "        corpus = [x.lower() for x in corpus if x != '<unk>' and x not in string.punctuation]\n",
    "        return corpus"
   ]
  },
  {
   "cell_type": "markdown",
   "metadata": {},
   "source": [
    "Let's have a look at the corpus"
   ]
  },
  {
   "cell_type": "code",
   "execution_count": 142,
   "metadata": {
    "pycharm": {
     "is_executing": true
    },
    "scrolled": false
   },
   "outputs": [
    {
     "name": "stdout",
     "output_type": "stream",
     "text": [
      "['valkyria', 'chronicles', 'iii', 'senjō', 'no', 'valkyria', '3', 'chronicles', 'japanese', '戦場のヴァルキュリア3', 'lit', 'valkyria', 'of', 'the', 'battlefield', '3', 'commonly', 'referred', 'to', 'as', 'valkyria', 'chronicles', 'iii', 'outside', 'japan', 'is', 'a', 'tactical', 'role', '@-@', 'playing', 'video', 'game', 'developed', 'by', 'sega', 'and', 'media.vision', 'for', 'the', 'playstation', 'portable', 'released', 'in', 'january', '2011', 'in', 'japan', 'it', 'is', 'the', 'third', 'game', 'in', 'the', 'valkyria', 'series', 'the', 'same', 'fusion', 'of', 'tactical', 'and', 'real', '@-@', 'time', 'gameplay', 'as', 'its', 'predecessors', 'the', 'story', 'runs', 'parallel', 'to', 'the', 'first', 'game', 'and', 'follows', 'the', 'nameless', 'a', 'penal', 'military', 'unit', 'serving', 'the', 'nation', 'of', 'gallia', 'during', 'the', 'second', 'europan', 'war', 'who', 'perform', 'secret', 'black']\n"
     ]
    }
   ],
   "source": [
    "corpus = read_corpus(r'./wikitext-2/wiki.train.tokens')\n",
    "print(corpus[0:100])"
   ]
  },
  {
   "cell_type": "markdown",
   "metadata": {},
   "source": [
    "### Question 1.1 [code]:\n",
    "Implement the function \"distinct_words\" that reads in \"corpus\" and returns distinct words that appeared in the corpus and the number of distinct words. \n",
    "\n",
    "Then, run the sanity check cell to check your implementation."
   ]
  },
  {
   "cell_type": "code",
   "execution_count": 143,
   "metadata": {
    "pycharm": {
     "is_executing": true
    },
    "scrolled": true
   },
   "outputs": [],
   "source": [
    "def distinct_words(corpus):\n",
    "    \"\"\"\n",
    "    Determine a list of distinct words for the corpus.\n",
    "    Params:\n",
    "        corpus --- list[str]: list of words in the corpus\n",
    "    Return:\n",
    "        corpus_words --- list[str]: list of distinct words in the corpus; sort this list with built-in python function \"sorted\"\n",
    "        num_corpus_words --- int: number of distinct words in the corpus\n",
    "    \"\"\"\n",
    "    ### YOUR CODE HERE\n",
    "\n",
    "    corpus_words = sorted(list(set(corpus)))\n",
    "\n",
    "    ### END OF YOUR CODE\n",
    "\n",
    "    return corpus_words, len(corpus_words)\n",
    "\n",
    "\n",
    "# Test code\n",
    "# print(\n",
    "#     distinct_words(\n",
    "#         \"learn and live. and make food\".split() + \"learn not and know not\".split()\n",
    "#     )\n",
    "# )\n"
   ]
  },
  {
   "cell_type": "code",
   "execution_count": 144,
   "metadata": {},
   "outputs": [
    {
     "name": "stdout",
     "output_type": "stream",
     "text": [
      "--------------------------------------------------------------------------------\n",
      "Passed All Tests!\n",
      "--------------------------------------------------------------------------------\n"
     ]
    }
   ],
   "source": [
    "# --------------------------------------------------\n",
    "# Run this sanity check to check your implementation\n",
    "# --------------------------------------------------\n",
    "\n",
    "# Define toy corpus\n",
    "test_corpus = \"learn and live\".split() + \"learn not and know not\".split()\n",
    "test_corpus_words, num_corpus_words = distinct_words(test_corpus)\n",
    "\n",
    "# Correct answers\n",
    "# ans_test_corpus_words = sorted(list(set(['learn','and','live','not','know'])))\n",
    "# ans_num_corpus_words = len(ans_test_corpus_words)\n",
    "\n",
    "ans_test_corpus_words = ['and', 'know', 'learn', 'live', 'not']\n",
    "ans_num_corpus_words = 5\n",
    "\n",
    "\n",
    "assert(num_corpus_words == ans_num_corpus_words), \"Incorrect number of distinct words. Correct: {}. Yours: {}\".format(ans_num_corpus_words, num_corpus_words)\n",
    "\n",
    "assert (test_corpus_words == ans_test_corpus_words), \"Incorrect corpus_words.\\nCorrect: {}\\nYours:   {}\".format(str(ans_test_corpus_words), str(test_corpus_words))\n",
    "\n",
    "print (\"-\" * 80)\n",
    "print(\"Passed All Tests!\")\n",
    "print (\"-\" * 80)"
   ]
  },
  {
   "cell_type": "markdown",
   "metadata": {},
   "source": [
    "### Question 1.2 [code]: \n",
    "Implement \"compute_word_matrix\" that reads in \"corpus\" and \"window_size\", and returns a co-occurrence matrix, NPMI matrix and a word-to-index dictionary.\n",
    "\n",
    "Then, run the sanity check cell to check your implementation."
   ]
  },
  {
   "cell_type": "code",
   "execution_count": 145,
   "metadata": {
    "pycharm": {
     "is_executing": true
    },
    "scrolled": true
   },
   "outputs": [
    {
     "name": "stdout",
     "output_type": "stream",
     "text": [
      "Initialzie + distinct_words 1.1920928955078125e-05\n",
      "word2index 0.00017905235290527344\n",
      "CoM 4.7206878662109375e-05\n",
      "NPMI double for loop 0.000125885009765625\n",
      "h_cw calculation 7.605552673339844e-05\n"
     ]
    },
    {
     "name": "stderr",
     "output_type": "stream",
     "text": [
      "/var/folders/0_/3r79lvxx429gwcrb5v1q10f80000gn/T/ipykernel_4215/1345325521.py:65: RuntimeWarning: divide by zero encountered in log2\n",
      "  NPMI[i, j] = np.log2(p_ij(CoM, i, j) / (p_i(i) * p_j(j)))\n",
      "/var/folders/0_/3r79lvxx429gwcrb5v1q10f80000gn/T/ipykernel_4215/1345325521.py:71: RuntimeWarning: divide by zero encountered in log2\n",
      "  h_cw = np.log2(CoM / COM_SUM) * -1\n"
     ]
    },
    {
     "data": {
      "text/plain": [
       "(array([[0., 1., 0., 1.],\n",
       "        [1., 0., 0., 1.],\n",
       "        [0., 0., 0., 1.],\n",
       "        [1., 1., 1., 0.]]),\n",
       " array([[-0.       ,  0.3333333, -0.       ,  0.1383458],\n",
       "        [ 0.3333333, -0.       , -0.       ,  0.1383458],\n",
       "        [-0.       , -0.       , -0.       ,  0.4716792],\n",
       "        [ 0.1383458,  0.1383458,  0.4716792, -0.       ]]),\n",
       " {'and': 0, 'know': 1, 'learn': 2, 'not': 3})"
      ]
     },
     "execution_count": 145,
     "metadata": {},
     "output_type": "execute_result"
    }
   ],
   "source": [
    "def compute_word_matrix(corpus, window_size=1):\n",
    "    \"\"\"\n",
    "    Compute co-occurrence matrix and PPMI matrix for the given corpus and window_size (default of 1).\n",
    "\n",
    "    Params:\n",
    "        corpus --- list[str]: list of words\n",
    "        window_size --- int: size of context window\n",
    "    Return:\n",
    "        CoM --- numpy array of shape (num_words, num_words):\n",
    "                Co-occurrence matrix of word counts.\n",
    "                The ordering of the words in the rows/columns should be the same as the ordering of the words\n",
    "                given by the distinct_words function.\n",
    "        PPMI--- numpy array of shape (num_words, num_words):\n",
    "                PPMI matrix of word counts.\n",
    "                The ordering of the words in the rows/columns should be the same as the ordering of the words\n",
    "                given by the distinct_words function.\n",
    "\n",
    "\n",
    "        word2index --- dict: dictionary that maps word to index (i.e. row/column number) for matrix CoM which is the same as PPMI.\n",
    "    \"\"\"\n",
    "    startTime = time.time()\n",
    "    words, num_words = distinct_words(corpus)\n",
    "    CoM, NPMI = np.zeros([num_words, num_words]), np.zeros([num_words, num_words])\n",
    "    word2index = {}\n",
    "    endTime = time.time()\n",
    "    print(\"Initialzie + distinct_words\", endTime - startTime)\n",
    "    startTime = endTime\n",
    "\n",
    "    ### YOUR CODE HERE\n",
    "    for i in range(num_words):\n",
    "        word2index[words[i]] = i\n",
    "    endTime = time.time()\n",
    "    print(\"word2index\", endTime - startTime)\n",
    "    startTime = endTime\n",
    "\n",
    "    # Count all the word1 -> word2 relationships\n",
    "    for i in range(len(corpus)):\n",
    "        for j in range(1, window_size + 1):\n",
    "            k = i + j\n",
    "            if k < len(corpus):\n",
    "                CoM[word2index[corpus[i]]][word2index[corpus[k]]] += 1\n",
    "\n",
    "    # count all the word2 -> word1 relationships\n",
    "    CoM = CoM + np.transpose(CoM)\n",
    "    endTime = time.time()\n",
    "    print(\"CoM\", endTime - startTime)\n",
    "    startTime = endTime\n",
    "\n",
    "    # ----- Code for NPMI -----\n",
    "    COM_SUM = CoM.sum()\n",
    "    COM_SUM_AXIS_1 = CoM.sum(axis=1)\n",
    "    COM_SUM_AXIS_0 = CoM.sum(axis=0)\n",
    "\n",
    "    def p_ij(CoM, i, j):\n",
    "        return CoM[i][j] / COM_SUM\n",
    "\n",
    "    def p_i(i):\n",
    "        return COM_SUM_AXIS_1[i] / COM_SUM\n",
    "\n",
    "    def p_j(j):\n",
    "        return COM_SUM_AXIS_0[j] / COM_SUM\n",
    "\n",
    "    for i in range(num_words):\n",
    "        for j in range(num_words):\n",
    "            NPMI[i, j] = np.log2(p_ij(CoM, i, j) / (p_i(i) * p_j(j)))\n",
    "    endTime = time.time()\n",
    "    print(\"NPMI double for loop\", endTime - startTime)\n",
    "    startTime = endTime\n",
    "\n",
    "    np.nan_to_num(NPMI, 0)\n",
    "    h_cw = np.log2(CoM / COM_SUM) * -1\n",
    "    NPMI = np.divide(NPMI, h_cw)\n",
    "    endTime = time.time()\n",
    "    print(\"h_cw calculation\", endTime - startTime)\n",
    "    startTime = endTime\n",
    "\n",
    "    ### END OF YOUR CODE\n",
    "    NPMI = np.round(NPMI, 7)\n",
    "\n",
    "    return CoM, NPMI, word2index\n",
    "\n",
    "\n",
    "compute_word_matrix(\"learn not and know not\".split(), window_size=1)\n"
   ]
  },
  {
   "cell_type": "code",
   "execution_count": 146,
   "metadata": {},
   "outputs": [
    {
     "name": "stdout",
     "output_type": "stream",
     "text": [
      "Initialzie + distinct_words 1.1205673217773438e-05\n",
      "word2index 0.0003528594970703125\n",
      "CoM 4.6253204345703125e-05\n",
      "NPMI double for loop 0.0001227855682373047\n",
      "h_cw calculation 7.82012939453125e-05\n",
      "--------------------------------------------------------------------------------\n",
      "Passed All Tests!\n",
      "--------------------------------------------------------------------------------\n"
     ]
    },
    {
     "name": "stderr",
     "output_type": "stream",
     "text": [
      "/var/folders/0_/3r79lvxx429gwcrb5v1q10f80000gn/T/ipykernel_4215/1345325521.py:65: RuntimeWarning: divide by zero encountered in log2\n",
      "  NPMI[i, j] = np.log2(p_ij(CoM, i, j) / (p_i(i) * p_j(j)))\n",
      "/var/folders/0_/3r79lvxx429gwcrb5v1q10f80000gn/T/ipykernel_4215/1345325521.py:71: RuntimeWarning: divide by zero encountered in log2\n",
      "  h_cw = np.log2(CoM / COM_SUM) * -1\n"
     ]
    }
   ],
   "source": [
    "# ---------------------\n",
    "# Run this sanity check\n",
    "# ---------------------\n",
    "\n",
    "# Define toy corpus and get co-occurrence matrix\n",
    "test_corpus = \"learn not and know not\".split()\n",
    "CoM_test, PPMI_test, word2Ind_test = compute_word_matrix(test_corpus, window_size=1)\n",
    "# Correct M and word2Ind\n",
    "CoM_test_ans = np.array( \n",
    "    [[0., 1., 0., 1.],\n",
    "     [1., 0., 0., 1.],\n",
    "     [0., 0., 0., 1.],\n",
    "     [1., 1., 1., 0.]])\n",
    "\n",
    "PPMI_test_ans = np.array(\n",
    "[[0.       , 0.3333333, 0.       , 0.1383458],\n",
    " [0.3333333, 0.       , 0.       , 0.1383458],\n",
    " [0.       , 0.       , 0.       , 0.4716792],\n",
    " [0.1383458, 0.1383458, 0.4716792, 0.       ]]\n",
    ")\n",
    "\n",
    "word2Ind_ans = {'and':0, 'know':1, 'learn':2,  'not':3}\n",
    "\n",
    "# check correct word2Ind\n",
    "assert (word2Ind_ans == word2Ind_test), \"Your word2Ind is incorrect:\\nCorrect: {}\\nYours: {}\".format(word2Ind_ans, word2Ind_test)\n",
    "\n",
    "# check correct CoM shape\n",
    "assert (CoM_test.shape == CoM_test_ans.shape), \"CoM matrix has incorrect shape.\\nCorrect: {}\\nYours: {}\".format(CoM_test.shape, CoM_test_ans.shape)\n",
    "\n",
    "# check correct PPMI shape\n",
    "assert (PPMI_test.shape == PPMI_test_ans.shape), \"PPMI matrix has incorrect shape.\\nCorrect: {}\\nYours: {}\".format(PPMI_test.shape, PPMI_test_ans.shape)\n",
    "# Test correct CoM and PPMI values\n",
    "for w1 in word2Ind_ans.keys():\n",
    "    idx1 = word2Ind_ans[w1]\n",
    "    for w2 in word2Ind_ans.keys():\n",
    "        idx2 = word2Ind_ans[w2]\n",
    "        student1 = CoM_test[idx1, idx2]\n",
    "        correct1 = CoM_test_ans[idx1, idx2]\n",
    "        student2 = PPMI_test[idx1, idx2]\n",
    "        correct2 = PPMI_test_ans[idx1, idx2]\n",
    "        if student1 != correct1:\n",
    "            print(\"Correct CoM:\")\n",
    "            print(CoM_test_ans)\n",
    "            print(\"Your CoM: \")\n",
    "            print(CoM_test)\n",
    "            raise AssertionError(\"Incorrect count at index ({}, {})=({}, {}) in matrix CoM. Yours has {} but should have {}.\".format(idx1, idx2, w1, w2, student1, correct1))\n",
    "        if student2 != correct2:\n",
    "            print(\"Correct PPMI:\")\n",
    "            print(PPMI_test_ans)\n",
    "            print(\"Your PPMI: \")\n",
    "            print(PPMI_test)\n",
    "            raise AssertionError(\"Incorrect count at index ({}, {})=({}, {}) in matrix PPMI. Yours has {} but should have {}.\".format(idx1, idx2, w1, w2, student2, correct2))\n",
    "\n",
    "# Print Success\n",
    "print (\"-\" * 80)\n",
    "print(\"Passed All Tests!\")\n",
    "print (\"-\" * 80)"
   ]
  },
  {
   "cell_type": "markdown",
   "metadata": {},
   "source": [
    "### Question 1.3 [code]:\n",
    "Implement \"dimension_reduction\" function below with python package sklearn.decomposition. For the use of PCA function and TruncatedSVD function, please refer to https://scikit-learn.org/stable/modules/classes.html#module-sklearn.decomposition\n",
    "\n",
    "Then, run the sanity check cell to check your implementation."
   ]
  },
  {
   "cell_type": "code",
   "execution_count": 147,
   "metadata": {
    "pycharm": {
     "is_executing": true
    },
    "scrolled": true
   },
   "outputs": [],
   "source": [
    "def dimension_reduction(X, k=2):\n",
    "    \"\"\"\n",
    "    params:\n",
    "        X --- numpy array of shape (num_words, word_embedding_size)\n",
    "        k --- int: the number of principal components that we keep\n",
    "    return:\n",
    "        X_reduced --- numpy array of shape (num_words, k)\n",
    "                      Using TruncatedSVD algorithm when k <= floor(word_embedding_size/10)\n",
    "                      Using PCA algorithm when k > floor(word_embedding_size/10)\n",
    "    \"\"\"\n",
    "    X_reduced = None\n",
    "    n_iters = 10  # Use this parameter in your call to `TruncatedSVD`\n",
    "    ### YOUR CODE HERE\n",
    "    dimReduceFn = (\n",
    "        TruncatedSVD(n_components=k, n_iter=n_iters)\n",
    "        if k <= math.floor(X.shape[1] / 10)\n",
    "        else PCA(n_components=k)\n",
    "    )\n",
    "    dimReduceFn.fit(X)\n",
    "    X_reduced = dimReduceFn.transform(X)\n",
    "\n",
    "    ### END OF YOUR CODE\n",
    "\n",
    "    return X_reduced\n"
   ]
  },
  {
   "cell_type": "code",
   "execution_count": 148,
   "metadata": {},
   "outputs": [
    {
     "name": "stdout",
     "output_type": "stream",
     "text": [
      "Initialzie + distinct_words 1.2874603271484375e-05\n",
      "word2index 3.62396240234375e-05\n",
      "CoM 4.1961669921875e-05\n",
      "NPMI double for loop 0.00011706352233886719\n",
      "h_cw calculation 7.081031799316406e-05\n",
      "--------------------------------------------------------------------------------\n",
      "Passed All Tests!\n",
      "--------------------------------------------------------------------------------\n"
     ]
    },
    {
     "name": "stderr",
     "output_type": "stream",
     "text": [
      "/var/folders/0_/3r79lvxx429gwcrb5v1q10f80000gn/T/ipykernel_4215/1345325521.py:65: RuntimeWarning: divide by zero encountered in log2\n",
      "  NPMI[i, j] = np.log2(p_ij(CoM, i, j) / (p_i(i) * p_j(j)))\n",
      "/var/folders/0_/3r79lvxx429gwcrb5v1q10f80000gn/T/ipykernel_4215/1345325521.py:71: RuntimeWarning: divide by zero encountered in log2\n",
      "  h_cw = np.log2(CoM / COM_SUM) * -1\n"
     ]
    }
   ],
   "source": [
    "# ---------------------\n",
    "# Run this sanity check\n",
    "# only check that your M_reduced has the right dimensions.\n",
    "# ---------------------\n",
    "\n",
    "# Define toy corpus and run student code\n",
    "test_corpus = \"learn not and know not\".split()\n",
    "CoM_test, PPMI_test, word2Ind_test = compute_word_matrix(test_corpus, window_size=1)\n",
    "CoM_test_reduced = dimension_reduction(CoM_test, k=2)\n",
    "\n",
    "# Test proper dimensions\n",
    "assert (CoM_test_reduced.shape[0] == 4), \"CoM_reduced has {} rows; should have {}\".format(CoM_test_reduced.shape[0], 4)\n",
    "assert (CoM_test_reduced.shape[1] == 2), \"CoM_reduced has {} columns; should have {}\".format(CoM_test_reduced.shape[1], 2)\n",
    "\n",
    "# Print Success\n",
    "print (\"-\" * 80)\n",
    "print(\"Passed All Tests!\")\n",
    "print (\"-\" * 80)"
   ]
  },
  {
   "cell_type": "markdown",
   "metadata": {},
   "source": [
    "### Question 1.4 [code]:\n",
    "Implement \"plot_embeddings\" function to visualize the word embeddings on a 2-D plane. \n",
    "\n",
    "Then, run the sanity check cell to check your implementation."
   ]
  },
  {
   "cell_type": "code",
   "execution_count": 149,
   "metadata": {
    "pycharm": {
     "is_executing": true
    },
    "scrolled": true
   },
   "outputs": [
    {
     "data": {
      "image/png": "[encoded data removed]",
      "text/plain": [
       "<Figure size 432x288 with 1 Axes>"
      ]
     },
     "metadata": {
      "needs_background": "light"
     },
     "output_type": "display_data"
    }
   ],
   "source": [
    "def plot_embeddings(X_reduced, word2Ind, words, fig_size, fig_title):\n",
    "    \"\"\"\n",
    "    Plot in a scatterplot the embeddings of the words specified in the list \"words\".\n",
    "\n",
    "    params:\n",
    "        X_reduced --- numpy array of shape (num_words , 2): numpy array of 2-d word embeddings\n",
    "        word2Ind --- dict: dictionary that maps words to indices\n",
    "        words --- list[str]: a list of words of which the embeddings we want to visualize\n",
    "        fig_size --- tuple (a,b) : the size of figure\n",
    "        fig_title --- str: title of the figure\n",
    "    return:\n",
    "        None\n",
    "    \"\"\"\n",
    "    plt.figure(figsize=fig_size)\n",
    "    ### YOUR CODE HERE\n",
    "\n",
    "    for i in range(len(words)):\n",
    "        x = X_reduced[i][0]\n",
    "        y = X_reduced[i][1]\n",
    "        plt.scatter(x, y, c=\"red\", marker=\"x\")\n",
    "        plt.text(x, y, words[i])\n",
    "\n",
    "    plt.title(fig_title)\n",
    "    ### END OF YOUR CODE\n",
    "\n",
    "\n",
    "X_test = np.array([[1, 1], [-1, -1], [1, -1], [-1, 1], [0, 0]])\n",
    "word2Ind_plot_test = {\"test1\": 0, \"test2\": 1, \"test3\": 2, \"test4\": 3, \"test5\": 4}\n",
    "words = [\"test1\", \"test2\", \"test3\", \"test4\", \"test5\"]\n",
    "plot_embeddings(X_test, word2Ind_plot_test, words, (6, 4), \"test_figure\")\n"
   ]
  },
  {
   "cell_type": "code",
   "execution_count": 150,
   "metadata": {},
   "outputs": [
    {
     "name": "stdout",
     "output_type": "stream",
     "text": [
      "--------------------------------------------------------------------------------\n",
      "Outputted Plot:\n",
      "--------------------------------------------------------------------------------\n"
     ]
    },
    {
     "data": {
      "image/png": "[encoded data removed]",
      "text/plain": [
       "<Figure size 432x288 with 1 Axes>"
      ]
     },
     "metadata": {
      "needs_background": "light"
     },
     "output_type": "display_data"
    }
   ],
   "source": [
    "# ---------------------\n",
    "# Run this sanity check\n",
    "# Note that this not an exhaustive check for correctness.\n",
    "# The plot produced should look like the \"test solution plot\" depicted below. \n",
    "# ---------------------\n",
    "\n",
    "print (\"-\" * 80)\n",
    "print (\"Outputted Plot:\")\n",
    "\n",
    "X_test = np.array([[1, 1], [-1, -1], [1, -1], [-1, 1], [0, 0]])\n",
    "word2Ind_plot_test = {'test1': 0, 'test2': 1, 'test3': 2, 'test4': 3, 'test5': 4}\n",
    "words = ['test1', 'test2', 'test3', 'test4', 'test5']\n",
    "plot_embeddings(X_test, word2Ind_plot_test, words, (6,4), 'test_figure')\n",
    "\n",
    "print (\"-\" * 80)"
   ]
  },
  {
   "cell_type": "markdown",
   "metadata": {},
   "source": [
    "##### <font color=red>**Test Plot Solution**</font>\n",
    "<br>\n",
    "<img src=\"data/test_plot.png\" width=40% style=\"float: left;\"> </img>"
   ]
  },
  {
   "cell_type": "code",
   "execution_count": 151,
   "metadata": {},
   "outputs": [
    {
     "name": "stdout",
     "output_type": "stream",
     "text": [
      "Initialzie + distinct_words 0.0032339096069335938\n",
      "word2index 0.0006222724914550781\n",
      "CoM 0.27842283248901367\n"
     ]
    },
    {
     "name": "stderr",
     "output_type": "stream",
     "text": [
      "/var/folders/0_/3r79lvxx429gwcrb5v1q10f80000gn/T/ipykernel_4215/1345325521.py:65: RuntimeWarning: divide by zero encountered in log2\n",
      "  NPMI[i, j] = np.log2(p_ij(CoM, i, j) / (p_i(i) * p_j(j)))\n"
     ]
    },
    {
     "name": "stdout",
     "output_type": "stream",
     "text": [
      "NPMI double for loop 95.18156814575195\n"
     ]
    },
    {
     "name": "stderr",
     "output_type": "stream",
     "text": [
      "/var/folders/0_/3r79lvxx429gwcrb5v1q10f80000gn/T/ipykernel_4215/1345325521.py:71: RuntimeWarning: divide by zero encountered in log2\n",
      "  h_cw = np.log2(CoM / COM_SUM) * -1\n"
     ]
    },
    {
     "name": "stdout",
     "output_type": "stream",
     "text": [
      "h_cw calculation 0.48030900955200195\n",
      "compute matrix 96.0282838344574\n",
      "dim reduction CoM 0.7781171798706055\n",
      "Dim reduction PPMI 1.025338888168335\n"
     ]
    },
    {
     "data": {
      "image/png": "[encoded data removed]",
      "text/plain": [
       "<Figure size 576x360 with 1 Axes>"
      ]
     },
     "metadata": {
      "needs_background": "light"
     },
     "output_type": "display_data"
    },
    {
     "data": {
      "image/png": "[encoded data removed]",
      "text/plain": [
       "<Figure size 576x360 with 1 Axes>"
      ]
     },
     "metadata": {
      "needs_background": "light"
     },
     "output_type": "display_data"
    }
   ],
   "source": [
    "# -----------------------------\n",
    "# Run This Cell to Produce Your Plot\n",
    "# window_size is 3\n",
    "# ------------------------------\n",
    "\n",
    "\n",
    "# corpus = read_corpus(r'./data/ptb.train.txt', 50000)\n",
    "corpus = read_corpus(r\"./wikitext-2/wiki.train.tokens\", 50000)\n",
    "# corpus = read_corpus(r\"./wikitext-2/wiki.train.tokens\", 50000)\n",
    "\n",
    "start = time.time()\n",
    "CoM, PPMI, word2Ind = compute_word_matrix(corpus, window_size=3)\n",
    "end = time.time()\n",
    "print(\"compute matrix\", end - start)\n",
    "\n",
    "start = end\n",
    "CoM_reduced = dimension_reduction(CoM, k=2)\n",
    "end = time.time()\n",
    "print(\"dim reduction CoM\", end - start)\n",
    "\n",
    "start = end\n",
    "PPMI_reduced = dimension_reduction(PPMI, k=2)\n",
    "end = time.time()\n",
    "print(\"Dim reduction PPMI\", end - start)\n",
    "start = end\n",
    "\n",
    "# Rescale (normalize) the rows to make them each of unit-length\n",
    "CoM_lengths = np.linalg.norm(CoM_reduced, axis=1)\n",
    "CoM_normalized = CoM_reduced / CoM_lengths[:, np.newaxis]  # broadcasting\n",
    "PPMI_lengths = np.linalg.norm(PPMI_reduced, axis=1)\n",
    "PPMI_normalized = PPMI_reduced / PPMI_lengths[:, np.newaxis]  # broadcasting\n",
    "\n",
    "\n",
    "words = [\"king\", \"women\", \"queen\", \"man\"]\n",
    "plot_embeddings(\n",
    "    CoM_normalized, word2Ind, words, (8, 5), \"Co-occurance embeddings of dimention 2\"\n",
    ")\n",
    "plot_embeddings(\n",
    "    PPMI_normalized, word2Ind, words, (8, 5), \"PPMI embeddings of dimention 2\"\n",
    ")\n"
   ]
  },
  {
   "cell_type": "markdown",
   "metadata": {},
   "source": [
    "## 2. Prediction-Based Word Embeddings\n",
    "### Word2vec\n",
    "Word2vec is a software package that contains two algorithms named CBOW and skip-gram ([Mikolov 2013](https://arxiv.org/pdf/1301.3781.pdf)). In the CBOW architecture, the model predicts the current word from a window of surrounding context words. In the continuous skip-gram architecture, the model uses the current word to predict the surrounding window of context words. The architectures are shown as follows:\n",
    "<br>\n",
    "<img src=\"data/Word2vec.png\" width=60% style=\"float: left;\"> </img>"
   ]
  },
  {
   "cell_type": "markdown",
   "metadata": {},
   "source": [
    "### Question 2.1 [code]:\n",
    "Complete the code in the function *create_word_batch*, which can be used to divide a single sequence of words into batches of words. \n",
    "\n",
    "For example, the word sequence [\"I\", \"like\", \"NLP\", \"So\", \"does\", \"he\"] can be divided into two batches, [\"I\", \"like\", \"NLP\"], [\"So\", \"does\", \"he\"], each with batch_size=3 words. It is more efficient to train word embedding on batches of word sequences rather than on a long single sequence. \n",
    "\n",
    "Then, run the sanity check cell to check your implementation."
   ]
  },
  {
   "cell_type": "code",
   "execution_count": 152,
   "metadata": {
    "pycharm": {
     "is_executing": true
    },
    "scrolled": true
   },
   "outputs": [],
   "source": [
    "def create_word_batch(words, batch_size=100):\n",
    "    \"\"\"\n",
    "    Split the words into batches\n",
    "    params:\n",
    "        words --- list[str]: a list of words\n",
    "        batch_size --- int: the number of words in a batch\n",
    "    return:\n",
    "        batch_words: list[list[str]]batches of words, list\n",
    "    \"\"\"\n",
    "    batch_words = []\n",
    "\n",
    "    ### YOUR CODE HERE\n",
    "    batch_words = np.array_split(words, math.ceil(len(words) / batch_size))\n",
    "    batch_words = [list(batch) for batch in batch_words]\n",
    "    ### END OF YOUR CODE\n",
    "    return batch_words\n",
    "\n",
    "\n",
    "# create_word_batch([\"I\", \"like\", \"NLP\", \"So\", \"does\", \"he\", \"asdf\"], 3)\n"
   ]
  },
  {
   "cell_type": "code",
   "execution_count": 153,
   "metadata": {
    "pycharm": {
     "is_executing": true
    },
    "scrolled": true
   },
   "outputs": [
    {
     "name": "stdout",
     "output_type": "stream",
     "text": [
      "passed!\n"
     ]
    }
   ],
   "source": [
    "# --------------------------------------------------\n",
    "# Run this sanity check to check your implementation\n",
    "# --------------------------------------------------\n",
    "words_test = [\"I\", \"like\", \"NLP\", \"So\", \"does\", \"he\"]\n",
    "batch_size_test = 3\n",
    "\n",
    "ans = [[\"I\", \"like\", \"NLP\"], [\"So\", \"does\", \"he\"]]\n",
    "\n",
    "batch_words_test = create_word_batch(words_test, batch_size_test)\n",
    "\n",
    "assert ans == batch_words_test, 'your output does not match \"ans\"'\n",
    "print(\"passed!\")\n"
   ]
  },
  {
   "cell_type": "markdown",
   "metadata": {},
   "source": [
    "### Question 2.2 [code]:\n",
    "Use \"Word2Vec\" function to build a word2vec model. For the use of \"Word2Vec\" function, please ,refer to https://radimrehurek.com/gensim/models/word2vec.html. Please use the parameters we have set for you.\n",
    "\n",
    "It may take a few minutes to train the model."
   ]
  },
  {
   "cell_type": "code",
   "execution_count": 154,
   "metadata": {
    "pycharm": {
     "is_executing": true
    },
    "scrolled": true
   },
   "outputs": [
    {
     "name": "stdout",
     "output_type": "stream",
     "text": [
      "Done!\n"
     ]
    }
   ],
   "source": [
    "# whole_corpus = corpus = read_corpus(r'./data/ptb.train.txt', 'all')\n",
    "whole_corpus = corpus = read_corpus(r\"./wikitext-2/wiki.train.tokens\", \"all\")\n",
    "batch_words = create_word_batch(whole_corpus)\n",
    "\n",
    "vector_size = 100\n",
    "min_count = 2\n",
    "window = 3\n",
    "sg = 1  # skip-gram algorithm\n",
    "\n",
    "### YOUR CODE HERE\n",
    "model = Word2Vec(\n",
    "    sentences=batch_words,\n",
    "    vector_size=vector_size,\n",
    "    window=window,\n",
    "    min_count=min_count,\n",
    "    workers=10,\n",
    ")\n",
    "# model.save(\"word2vec.model\")\n",
    "### END OF YOUR CODE\n",
    "\n",
    "print(\"Done!\")\n"
   ]
  },
  {
   "cell_type": "markdown",
   "metadata": {},
   "source": [
    "### Question 2.3 [code]:\n",
    "Implement \"get_word2Ind\" function below first. Then, run the sanity check cell to check your implementation.\n",
    "\n",
    "Use \"get_word2Ind\", \"dimension_reduction\", and \"plot_embeddings\" functions to visualize the word embeddings of the first 300 words in the vocabulary. "
   ]
  },
  {
   "cell_type": "code",
   "execution_count": 155,
   "metadata": {
    "pycharm": {
     "is_executing": true
    },
    "scrolled": true
   },
   "outputs": [],
   "source": [
    "def get_word2Ind(index2word):\n",
    "    \"\"\"\n",
    "    construct a dictionary that maps words to its index\n",
    "\n",
    "    params:\n",
    "        index2word --- list[str]: list of words\n",
    "    return\n",
    "        word2index --- dict: keys are words, values are the corresponding indices\n",
    "    \"\"\"\n",
    "    word2index = dict()\n",
    "    ### YOUR CODE HERE\n",
    "    for i in range(len(index2word)):\n",
    "        word2index[index2word[i]] = i\n",
    "    ### END OF YOUR CODE\n",
    "    return word2index\n"
   ]
  },
  {
   "cell_type": "code",
   "execution_count": 156,
   "metadata": {
    "pycharm": {
     "is_executing": true
    },
    "scrolled": true
   },
   "outputs": [
    {
     "name": "stdout",
     "output_type": "stream",
     "text": [
      "passed!\n"
     ]
    }
   ],
   "source": [
    "# --------------------------------------------------\n",
    "# Run this sanity check to check your implementation\n",
    "# --------------------------------------------------\n",
    "i2w_test = [\"I\", \"love\", \"it\"]\n",
    "ans_test = get_word2Ind(i2w_test)\n",
    "\n",
    "ans = {\"I\": 0, \"love\": 1, \"it\": 2}\n",
    "assert ans == ans_test, \"your output did not match the correct answer.\"\n",
    "print(\"passed!\")\n"
   ]
  },
  {
   "cell_type": "code",
   "execution_count": 157,
   "metadata": {
    "pycharm": {
     "is_executing": true
    },
    "scrolled": false
   },
   "outputs": [
    {
     "data": {
      "image/png": "[encoded data removed]",
      "text/plain": [
       "<Figure size 864x576 with 1 Axes>"
      ]
     },
     "metadata": {
      "needs_background": "light"
     },
     "output_type": "display_data"
    }
   ],
   "source": [
    "index2word = model.wv.index_to_key\n",
    "words_to_visualize = index2word[:300]\n",
    "\n",
    "### YOUR CODE HERE\n",
    "dim = np.empty((0, 100))\n",
    "for i in range(300):\n",
    "    dim = np.row_stack((dim, model.wv[words_to_visualize[i]]))\n",
    "\n",
    "dim_reduced = dimension_reduction(dim, k=2)\n",
    "plot_embeddings(dim_reduced, words_to_visualize, words_to_visualize, (12, 8), \"hello\")\n",
    "### END OF YOUR CODE\n"
   ]
  },
  {
   "cell_type": "markdown",
   "metadata": {},
   "source": [
    "### Question 2.4 [code]:\n",
    "1. Find the most similar words for the given words \"man\",\"woman\",\"king\". You need to use \"model.wv.most_similar\" function.\n",
    "2. Find out which word will it be for x in the pairs author : singer :: book : x? You need to use \"model.wv.most_similar\" function."
   ]
  },
  {
   "cell_type": "code",
   "execution_count": 158,
   "metadata": {
    "pycharm": {
     "is_executing": true
    },
    "scrolled": true
   },
   "outputs": [
    {
     "data": {
      "text/plain": [
       "[('child', 0.8951638340950012),\n",
       " ('girl', 0.8851626515388489),\n",
       " ('friend', 0.8806236982345581),\n",
       " ('lady', 0.8501633405685425),\n",
       " ('voice', 0.8460336327552795),\n",
       " ('bond', 0.8372470140457153),\n",
       " ('mother', 0.8336653113365173),\n",
       " ('yue', 0.8307801485061646),\n",
       " ('jealous', 0.8244190812110901),\n",
       " ('son', 0.8230921030044556)]"
      ]
     },
     "execution_count": 158,
     "metadata": {},
     "output_type": "execute_result"
    }
   ],
   "source": [
    "words = [\"man\", \"woman\", \"king\"]\n",
    "### 1\n",
    "### YOUR CODE HERE\n",
    "model.wv.most_similar(\n",
    "    positive=[\"man\", \"woman\", \"king\"],\n",
    ")\n",
    "# ANSWER is friend\n",
    "\n",
    "### END OF YOUR CODE\n"
   ]
  },
  {
   "cell_type": "code",
   "execution_count": 159,
   "metadata": {},
   "outputs": [
    {
     "data": {
      "text/plain": [
       "[('writer', 0.908018171787262),\n",
       " ('creator', 0.9066494703292847),\n",
       " ('poet', 0.9055471420288086),\n",
       " ('composer', 0.9043450951576233),\n",
       " ('publisher', 0.8911311030387878),\n",
       " ('actor', 0.891123354434967),\n",
       " ('critic', 0.8896278142929077),\n",
       " ('murphy', 0.8884673714637756),\n",
       " ('tom', 0.8843621015548706),\n",
       " ('jazz', 0.8835170269012451)]"
      ]
     },
     "execution_count": 159,
     "metadata": {},
     "output_type": "execute_result"
    }
   ],
   "source": [
    "# ### 2\n",
    "# ### YOUR CODE HERE\n",
    "model.wv.most_similar(\n",
    "    positive=[\"author\", \"singer\"],\n",
    ")\n",
    "# ANSWER is writer\n",
    "# ### END OF YOUR CODE\n"
   ]
  },
  {
   "cell_type": "markdown",
   "metadata": {},
   "source": [
    "### Question 2.5 [code+written]:\n",
    "\n",
    "It's important to be cognizant of the biases (gender, race, sexual orientation etc.) implicit in our word embeddings. Bias can be dangerous because it can reinforce stereotypes through applications that employ these models.\n",
    "\n",
    "Use the `most_similar` function to find two cases where some bias is exhibited by the vectors. Please briefly explain the example of bias that you discover."
   ]
  },
  {
   "cell_type": "code",
   "execution_count": 160,
   "metadata": {},
   "outputs": [
    {
     "name": "stdout",
     "output_type": "stream",
     "text": [
      "0.47682014 0.19899859\n",
      "0.6869453 0.6197745\n"
     ]
    }
   ],
   "source": [
    "### YOUR CODE HERE\n",
    "comparison = \"asian\"\n",
    "\n",
    "print(\n",
    "    model.wv.similarity(comparison, \"bad\"), model.wv.similarity(comparison, \"good\")\n",
    ")\n",
    "#0.43832785 0.18442458 asian is closer to bad \n",
    "\n",
    "\n",
    "comparison = \"robbery\"\n",
    "print(\n",
    "    model.wv.similarity(comparison, \"male\"), model.wv.similarity(comparison, \"female\")\n",
    ")\n",
    "#0.63172656 0.61233956 male is associated more to robbery\n",
    "\n",
    "### END OF YOUR CODE\n"
   ]
  },
  {
   "cell_type": "markdown",
   "metadata": {},
   "source": [
    "**_Write your explanation:_** This biasness is due to the text that we input to the model. The more bias the texts are towards a certain group of people, the more bias the model will be\n",
    "\n"
   ]
  }
 ],
 "metadata": {
  "interpreter": {
   "hash": "b2a4c03de4558ef5a607eb077c8ee8a6fae43eb49b3aff39fb8abe80b4d90c52"
  },
  "kernelspec": {
   "display_name": "Python 3 (ipykernel)",
   "language": "python",
   "name": "python3"
  },
  "language_info": {
   "codemirror_mode": {
    "name": "ipython",
    "version": 3
   },
   "file_extension": ".py",
   "mimetype": "text/x-python",
   "name": "python",
   "nbconvert_exporter": "python",
   "pygments_lexer": "ipython3",
   "version": "3.9.10"
  }
 },
 "nbformat": 4,
 "nbformat_minor": 2
}
