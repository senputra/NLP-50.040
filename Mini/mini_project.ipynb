{
  "cells": [
    {
      "cell_type": "markdown",
      "metadata": {
        "id": "pf_8OI34CdXU"
      },
      "source": [
        "<img src=\"images/sutd.png\" alt=\"drawing\" style=\"width:300px;\"/>\n",
        "\n",
        "## <center>50.040 Natural Language Processing, Summer 2021<center>\n",
        "    \n",
        "<center>**Due 17 June 2021, 5pm** <center>\n",
        "Mini Project"
      ]
    },
    {
      "cell_type": "markdown",
      "metadata": {
        "id": "YAN5MA5GCdXU"
      },
      "source": [
        "**Write your student ID and name**\n",
        "\n",
        "\n",
        "### STUDNET ID: 1004335\n",
        "\n",
        "### Name: Dody Senputra\n",
        "\n",
        "### Students with whom you have discussed (if any):"
      ]
    },
    {
      "cell_type": "markdown",
      "metadata": {
        "id": "V0iF5uWcCdXV"
      },
      "source": [
        "# Introduction\n",
        "\n",
        "Language models are very useful for a wide range of applications, e.g., speech recognition and machine translation. Consider a sentence consisting of words $x_1, x_2, …, x_m$, where $m$ is the length of the sentence, the goal of language modeling is to model the probability of the sentence, where $m \\geq 1$, $x_i \\in V $ and $V$ is the vocabulary of the corpus:\n",
        "$$p(x_1, x_2, …, x_m)$$\n",
        "In this project, we are going to explore both statistical language model and neural language model on the [Wikitext-2](https://blog.einstein.ai/the-wikitext-long-term-dependency-language-modeling-dataset/) datasets. Download wikitext-2 word-level data and put it under the ``data`` folder.\n",
        "\n",
        "## Statistical  Language Model\n",
        "\n",
        "A simple way is to view words as independent random variables (i.e., zero-th order Markovian assumption). The joint probability can be written as:\n",
        "$$p(x_1, x_2, …, x_m)=\\prod_{i=1}^m p(x_i)$$\n",
        "However, this model ignores the word order information, to account for which, under the first-order Markovian assumption, the joint probability can be written as:\n",
        "$$p(x_0, x_1, x_2, …, x_{m})= \\prod_{i=1}^{m}p(x_i \\mid x_{i-1})$$\n",
        "Under the second-order Markovian assumption, the joint probability can be written as:\n",
        "$$p(x_{-1}, x_0, x_1, x_2, …, x_{m})= \\prod_{i=1}^{m}p(x_i \\mid x_{i-2}, x_{i-1})$$\n",
        "Similar to what we did in HMM, we will assume that $x_{-1}=START, x_0=START, x_{m} = STOP$ in this definition, where $START, STOP$ are special symbols referring to the start and the end of a sentence.\n",
        "\n",
        "\n",
        "\n",
        "\n",
        "\n"
      ]
    },
    {
      "cell_type": "markdown",
      "metadata": {
        "id": "F5wC4lqKCdXW"
      },
      "source": [
        "### Parameter estimation\n",
        "\n",
        "Let's use $count(u)$ to denote the number of times the unigram $u$ appears in the corpus, use $count(v, u)$ to denote the number of times the bigram $v, u$ appears in the corpus, and $count(w, v, u)$ the times the trigram $w, v, u$ appears in the corpus, $u \\in V \\cup STOP$ and $w, v \\in V \\cup START$.\n",
        "\n",
        "And the parameters of the unigram, bigram and trigram models can be obtained using maximum likelihood estimation (MLE).\n",
        "\n",
        "- In the unigram model, the parameters can be estimated as: $$p(u) = \\frac {count(u)}{c}$$, where $c$ is the total number of words in the corpus.\n",
        "- In the bigram model, the parameters can be estimated as:\n",
        "$$p(u \\mid v) = \\frac{count(v, u)}{count(v)}$$\n",
        "- In the trigram model, the parameters can be estimated as:\n",
        "$$p(u \\mid w, v) = \\frac{count(w, v, u)}{count(w, v)}$$\n",
        "\n",
        "\n"
      ]
    },
    {
      "cell_type": "markdown",
      "metadata": {
        "id": "C7dks8t0CdXW"
      },
      "source": [
        "### Smoothing the parameters\n",
        "#### Add-k Smoothing\n",
        "Note, it is likely that many parameters of bigram and trigram models will be 0 because the relevant bigrams and trigrams involved do not appear in the corpus. If you don't have a way to handle these 0 probabilities, all the sentences that include such bigrams or trigrams will have probabilities of 0.\n",
        "\n",
        "We'll use a Add-k Smoothing method to fix this problem, the smoothed parameters can be estimated as:\n",
        "\\begin{equation}\n",
        "p_{add-k}(u)= \\frac{count(u)+k}{c+k|V^*|}\n",
        "\\end{equation}\n",
        "\\begin{equation}\n",
        "p_{add-k}(u \\mid v)= \\frac{count(v, u)+k}{count(v)+k|V^*|}\n",
        "\\end{equation}\n",
        "\\begin{equation}\n",
        "p_{add-k}(u \\mid w, v)= \\frac{count(w, v, u)+k}{count(w, v)+k|V^*|}\n",
        "\\end{equation}\n",
        "\n",
        "where $k \\in (0, 1)$ is the parameter of this approach, and $|V^*|$ is the size of the vocabulary $V^*$, here $V^*= V \\cup STOP$. One way to choose the value of $k$ is by\n",
        "optimizing the perplexity of the development set, namely to choose the value that minimizes the perplexity.\n",
        "#### Interpolation\n",
        "There is another way for smoothing which is named as **interpolation**. In interpolation, we always mix the probability estimates from\n",
        "all the n-gram estimators, weighing and combining the trigram, bigram, and unigram counts. In simple linear interpolation, we combine different order n-grams by linearly interpolating all the models. Thus, we estimate the trigram probability $p(w_n|w_{n-2},w_{n-1})$ by mixing together the unigram, bigram, and trigram probabilities, each weighted by a $\\lambda$:\n",
        "\\begin{align}\n",
        "\\hat{p}(w_n|w_{n-2},w_{n-1}) = \\lambda_1p(w_n|w_{n-2},w_{n-1})+\\lambda_2p(w_n|w_{n-1})+\\lambda_3p(w_n)\n",
        "\\end{align}\n",
        "such that the $\\lambda$s sum to 1:\n",
        "\\begin{align}\n",
        "\\sum_i\\lambda_i=1\n",
        "\\end{align}\n",
        "In addition, $\\lambda_1,\\lambda_2,\\lambda_3\\geq 0$."
      ]
    },
    {
      "cell_type": "markdown",
      "metadata": {
        "id": "SNVha_8UCdXX"
      },
      "source": [
        "### Perplexity\n",
        "\n",
        "Given a test set $D^{\\prime}$ consisting of sentences $X^{(1)}, X^{(2)}, …, X^{(|D^{\\prime}|)}$, each sentence $X^{(j)}$ consists of words $x_1^{(j)}, x_2^{(j)},…,x_{n_j}^{(j)}$, we can measure the probability of each sentence $X^{(j)}$, and the quality of the language model would be the probability it assigns to the entire set of test sentences, namely:\n",
        "\\begin{equation} \n",
        "\\prod_{j=1}^{|D^{\\prime}|}p(X^{(j)})\n",
        "\\end{equation}\n",
        "Let's define average $log_2$ probability as:\n",
        "\\begin{equation} \n",
        "l=\\frac{1}{c^{\\prime}}\\sum_{j=1}^{|D^{\\prime}|}log_2p(X^{(j)})\n",
        "\\end{equation}\n",
        "$c^{\\prime}$ is the total number of words in the test set, $|D^{\\prime}|$ is the number of sentences. And the perplexity is defined as:\n",
        "\\begin{equation} \n",
        "perplexity=2^{-l}\n",
        "\\end{equation}\n",
        "\n",
        "The lower the perplexity, the better the language model."
      ]
    },
    {
      "cell_type": "code",
      "execution_count": 1,
      "metadata": {
        "id": "LWG7v1X2Ajw9"
      },
      "outputs": [],
      "source": [
        "from collections import Counter, namedtuple\n",
        "import itertools\n",
        "import numpy as np\n",
        "import math"
      ]
    },
    {
      "cell_type": "code",
      "execution_count": 2,
      "metadata": {
        "colab": {
          "base_uri": "https://localhost:8080/",
          "height": 224
        },
        "id": "xWCd7n16Ajw-",
        "outputId": "f236b2ac-fda5-4b0d-aea6-d578f166f002"
      },
      "outputs": [],
      "source": [
        "with open('../data/wikitext-2/wiki.train.tokens', 'r', encoding='utf8') as f:\n",
        "    text = f.readlines()\n",
        "    train_sents = [line.lower().strip('\\n').split() for line in text]\n",
        "    train_sents = [s for s in train_sents if len(s)>0 and s[0] != '=']"
      ]
    },
    {
      "cell_type": "code",
      "execution_count": 3,
      "metadata": {
        "id": "Dc29Pfu7Ajw-"
      },
      "outputs": [
        {
          "name": "stdout",
          "output_type": "stream",
          "text": [
            "['the', 'game', 'began', 'development', 'in', '2010', ',', 'carrying', 'over', 'a', 'large', 'portion', 'of', 'the', 'work', 'done', 'on', 'valkyria', 'chronicles', 'ii', '.', 'while', 'it', 'retained', 'the', 'standard', 'features', 'of', 'the', 'series', ',', 'it', 'also', 'underwent', 'multiple', 'adjustments', ',', 'such', 'as', 'making', 'the', 'game', 'more', '<unk>', 'for', 'series', 'newcomers', '.', 'character', 'designer', '<unk>', 'honjou', 'and', 'composer', 'hitoshi', 'sakimoto', 'both', 'returned', 'from', 'previous', 'entries', ',', 'along', 'with', 'valkyria', 'chronicles', 'ii', 'director', 'takeshi', 'ozawa', '.', 'a', 'large', 'team', 'of', 'writers', 'handled', 'the', 'script', '.', 'the', 'game', \"'s\", 'opening', 'theme', 'was', 'sung', 'by', 'may', \"'n\", '.']\n"
          ]
        }
      ],
      "source": [
        "print(train_sents[1])"
      ]
    },
    {
      "cell_type": "markdown",
      "metadata": {
        "id": "G0vxL-WpCdXX"
      },
      "source": [
        "### Question 1 [code]\n",
        "1. Implement the function **\"compute_ngram\"** that computes n-grams in the corpus.\n",
        " (Do not take the START and STOP symbols into consideration for now.) \n",
        "2. List 10 most frequent unigrams, bigrams and trigrams as well as their counts.(Hint: use the built-in function .most_common in Counter class)"
      ]
    },
    {
      "cell_type": "code",
      "execution_count": 4,
      "metadata": {
        "id": "TOyoT-QiCdXY"
      },
      "outputs": [],
      "source": [
        "def compute_ngram(sents, n):\n",
        "    \"\"\"\n",
        "    Compute n-grams that appear in \"sents\".\n",
        "    param:\n",
        "        sents: list[list[str]] --- list of list of word strings\n",
        "        n: int --- \"n\" gram\n",
        "    return:\n",
        "        ngram_set: set{str} --- a set of n-grams (no duplicate elements)\n",
        "        ngram_dict: dict{ngram: counts} --- a dictionary that maps each ngram to its number occurence in \"sents\";\n",
        "        This dict contains the parameters of our ngram model. E.g. if n=2, ngram_dict={('a','b'):10, ('b','c'):13}\n",
        "\n",
        "        You may need to use \"Counter\", \"tuple\" function here.\n",
        "    \"\"\"\n",
        "    ngram_set = set()\n",
        "    ngram_dict = {}\n",
        "    ### YOUR CODE HERE\n",
        "    for sentence in sents:\n",
        "        for i in range(len(sentence) - (n - 1)):\n",
        "            data = tuple(sentence[i : i + n])\n",
        "            if data in ngram_dict:\n",
        "                ngram_dict[data] += 1\n",
        "            else:\n",
        "                ngram_dict[data] = 1\n",
        "\n",
        "    ngram_set = list(ngram_dict.keys())\n",
        "\n",
        "    ### END OF YOUR CODE\n",
        "    return ngram_set, ngram_dict\n"
      ]
    },
    {
      "cell_type": "code",
      "execution_count": 24,
      "metadata": {
        "id": "Cz8eOmqmAjw_"
      },
      "outputs": [
        {
          "name": "stdout",
          "output_type": "stream",
          "text": [
            "unigram: 28910\n",
            "bigram: 577343\n",
            "trigram: 1344047\n"
          ]
        }
      ],
      "source": [
        "unigram_set, unigram_dict = compute_ngram(train_sents, 1)\n",
        "print('unigram: %d' %(len(unigram_set)),)\n",
        "\n",
        "bigram_set, bigram_dict = compute_ngram(train_sents, 2)\n",
        "print('bigram: %d' %(len(bigram_set)),)\n",
        "\n",
        "trigram_set, trigram_dict = compute_ngram(train_sents, 3)\n",
        "print('trigram: %d' %(len(trigram_set)),)"
      ]
    },
    {
      "cell_type": "code",
      "execution_count": 25,
      "metadata": {
        "id": "8zNOOFZoAjw_"
      },
      "outputs": [
        {
          "data": {
            "text/plain": [
              "[((',', 'and', 'the'), 1393),\n",
              " ((',', '<unk>', ','), 950),\n",
              " (('<unk>', ',', '<unk>'), 901),\n",
              " (('one', 'of', 'the'), 866),\n",
              " (('<unk>', ',', 'and'), 819),\n",
              " (('.', 'however', ','), 775),\n",
              " (('<unk>', '<unk>', ','), 745),\n",
              " (('.', 'in', 'the'), 726),\n",
              " (('.', 'it', 'was'), 698),\n",
              " (('the', 'united', 'states'), 666)]"
            ]
          },
          "execution_count": 25,
          "metadata": {},
          "output_type": "execute_result"
        }
      ],
      "source": [
        "# List 10 most frequent unigrams, bigrams and trigrams as well as their counts.\n",
        "### YOUR CODE HERE\n",
        "Counter(unigram_dict).most_common(10)\n",
        "Counter(bigram_dict).most_common(10)\n",
        "Counter(trigram_dict).most_common(10)\n",
        "### END OF YOUR CODE\n"
      ]
    },
    {
      "cell_type": "markdown",
      "metadata": {
        "id": "PVpoDgU7CdXb"
      },
      "source": [
        "### Question 2 [code]\n",
        "In this part, we take the START and STOP symbols into consideration. So we need to pad the **train_sents** as described in \"Statistical Language Model\" before we apply \"compute_ngram\" function. For example, given a sentence \"I like NLP\", in a bigram model, we need to pad it as \"START I like NLP STOP\", in a trigram model, we need to pad it as \"START START I like NLP STOP\". For unigram model, it should be paded as \"I like NLP STOP\".\n",
        "\n",
        "1. Implement the ``pad_sents`` function.\n",
        "2. Pad ``train_sents``.\n",
        "3. Apply ``compute_ngram`` function to these padded sents.\n",
        "4. Implement ``ngram_prob`` function. Compute the probability for each n-gram in the variable **ngrams** according equations in **\"Parameter estimation\"**. List down the n-grams that have 0 probability. \n",
        "\n"
      ]
    },
    {
      "cell_type": "code",
      "execution_count": 7,
      "metadata": {
        "id": "ZxxFKiiGAjxA"
      },
      "outputs": [
        {
          "name": "stdout",
          "output_type": "stream",
          "text": [
            "[['the', 'computer'], ['go', 'to'], ['have', 'had'], ['and', 'the'], ['can', 'sea'], ['a', 'number', 'of'], ['with', 'respect', 'to'], ['in', 'terms', 'of'], ['not', 'good', 'bad'], ['first', 'start', 'with']]\n"
          ]
        }
      ],
      "source": [
        "###############################################\n",
        "ngrams = list()\n",
        "with open('../data/ngram.txt','r') as f:\n",
        "    for line in f:\n",
        "        ngrams.append(line.strip('\\n').split())\n",
        "print(ngrams)\n",
        "###############################################"
      ]
    },
    {
      "cell_type": "code",
      "execution_count": 8,
      "metadata": {
        "id": "cMQIjFp1AjxA"
      },
      "outputs": [],
      "source": [
        "START = \"<START>\"\n",
        "STOP = \"<STOP>\"\n",
        "###################################\n",
        "def pad_sents(sents, n):\n",
        "    \"\"\"\n",
        "    Pad the sents according to n.\n",
        "    params:\n",
        "        sents: list[list[str]] --- list of sentences.\n",
        "        n: int --- specify the padding type, 1-gram, 2-gram, or 3-gram.\n",
        "    return:\n",
        "        padded_sents: list[list[str]] --- list of padded sentences.\n",
        "    \"\"\"\n",
        "    padded_sents = []\n",
        "    ### YOUR CODE HERE\n",
        "    for sentence in sents:\n",
        "        padded_sents.append([START] * np.max([0, n - 1]) + sentence + [STOP])\n",
        "\n",
        "    ### END OF YOUR CODE\n",
        "    return padded_sents\n"
      ]
    },
    {
      "cell_type": "code",
      "execution_count": 9,
      "metadata": {
        "id": "p1D18QUwAjxA"
      },
      "outputs": [],
      "source": [
        "uni_sents = pad_sents(train_sents, 1)\n",
        "bi_sents = pad_sents(train_sents, 2)\n",
        "tri_sents = pad_sents(train_sents, 3)"
      ]
    },
    {
      "cell_type": "code",
      "execution_count": 10,
      "metadata": {
        "id": "dkI6IN34AjxA"
      },
      "outputs": [],
      "source": [
        "unigram_set, unigram_dict = compute_ngram(uni_sents, 1)\n",
        "bigram_set, bigram_dict = compute_ngram(bi_sents, 2)\n",
        "trigram_set, trigram_dict = compute_ngram(tri_sents, 3)"
      ]
    },
    {
      "cell_type": "code",
      "execution_count": 11,
      "metadata": {
        "id": "Dsb0i9XrAjxB"
      },
      "outputs": [
        {
          "data": {
            "text/plain": [
              "(28911, 580825, 1363266)"
            ]
          },
          "execution_count": 11,
          "metadata": {},
          "output_type": "execute_result"
        }
      ],
      "source": [
        "len(unigram_set),len(bigram_set),len(trigram_set)"
      ]
    },
    {
      "cell_type": "code",
      "execution_count": 12,
      "metadata": {
        "id": "ZBbk2jWGAjxB"
      },
      "outputs": [
        {
          "name": "stdout",
          "output_type": "stream",
          "text": [
            "2024702\n"
          ]
        }
      ],
      "source": [
        "num_words = sum([v for _,v in unigram_dict.items()])\n",
        "print(num_words)"
      ]
    },
    {
      "cell_type": "code",
      "execution_count": 13,
      "metadata": {
        "id": "3vEc6OdjAjxB"
      },
      "outputs": [],
      "source": [
        "def ngram_prob(ngram, num_words, unigram_dic, bigram_dic, trigram_dic):\n",
        "    \"\"\"\n",
        "    params:\n",
        "        ngram: list[str] --- a list that represents n-gram\n",
        "        num_words: int --- total number of words\n",
        "        unigram_dic: dict{ngram: counts} --- a dictionary that maps each 1-gram to its number of occurences in \"sents\";\n",
        "        bigram_dic: dict{ngram: counts} --- a dictionary that maps each 2-gram to its number of occurence in \"sents\";\n",
        "        trigram_dic: dict{ngram: counts} --- a dictionary that maps each 3-gram to its number occurence in \"sents\";\n",
        "    return:\n",
        "        prob: float --- probability of the \"ngram\"\n",
        "    \"\"\"\n",
        "    prob = None\n",
        "    ### YOUR CODE HERE\n",
        "    if len(ngram) == 1:\n",
        "        prob = unigram_dic.get(tuple(ngram), 0) / num_words\n",
        "\n",
        "    elif len(ngram) == 2:\n",
        "        if unigram_dic.get(tuple([ngram[0]]), 0) == 0:\n",
        "\n",
        "            return 0\n",
        "        prob = bigram_dic.get(tuple(ngram), 0) / unigram_dic.get(tuple([ngram[0]]), 0)\n",
        "\n",
        "    elif len(ngram) == 3:\n",
        "        if bigram_dic.get(tuple(ngram[:2]), 0) == 0:\n",
        "            return 0\n",
        "        prob = trigram_dic.get(tuple(ngram), 0) / bigram_dic.get(tuple(ngram[:2]), 0)\n",
        "    else:\n",
        "        prob = \"ngram is invalid\"\n",
        "    ### END OF YOUR CODE\n",
        "    return prob\n"
      ]
    },
    {
      "cell_type": "code",
      "execution_count": 14,
      "metadata": {
        "id": "LrerPbmNAjxB"
      },
      "outputs": [
        {
          "name": "stdout",
          "output_type": "stream",
          "text": [
            "9.960235674499498e-05\n",
            "0.012683770539060248\n",
            "0.0867240688826592\n"
          ]
        }
      ],
      "source": [
        "print(ngram_prob(ngrams[0], num_words, unigram_dict, bigram_dict, trigram_dict))\n",
        "print(ngram_prob(ngrams[2], num_words, unigram_dict, bigram_dict, trigram_dict))\n",
        "print(ngram_prob(ngrams[3], num_words, unigram_dict, bigram_dict, trigram_dict))"
      ]
    },
    {
      "cell_type": "code",
      "execution_count": 15,
      "metadata": {
        "id": "ywiT_81BAjxB"
      },
      "outputs": [
        {
          "name": "stdout",
          "output_type": "stream",
          "text": [
            "['can', 'sea']\n",
            "['not', 'good', 'bad']\n",
            "['first', 'start', 'with']\n"
          ]
        }
      ],
      "source": [
        "### List down the n-grams that have 0 probability.\n",
        "### YOUR CODE HERE\n",
        "for ngram in ngrams:\n",
        "    p = ngram_prob(ngram, num_words, unigram_dict, bigram_dict, trigram_dict)\n",
        "    if p == 0:\n",
        "        print(ngram)\n",
        "### END OF YOUR CODE\n"
      ]
    },
    {
      "cell_type": "markdown",
      "metadata": {
        "id": "2kAezpJ9CdXd"
      },
      "source": [
        "### Question 3 [code]\n",
        "\n",
        "1. Implement ``add_k_smoothing_ngram`` function to estimate ngram probability with ``add-k`` smoothing technique.\n",
        "2. Implement ``interpolation_ngram`` function to estimate ngram probability with ``interpolation`` smoothing technique.\n",
        "3. Implement ``perplexity`` function to compute the perplexity of the corpus \"**valid_sents**\" according to \"**Perplexity**\" section. The computation of $p(X^{(j)})$ depends on the n-gram model you choose."
      ]
    },
    {
      "cell_type": "code",
      "execution_count": 16,
      "metadata": {
        "id": "iMBGZ67CAjxB"
      },
      "outputs": [],
      "source": [
        "with open('../data/wikitext-2/wiki.valid.tokens', 'r', encoding='utf8') as f:\n",
        "    text = f.readlines()\n",
        "    valid_sents = [line.lower().strip('\\n').split() for line in text]\n",
        "    valid_sents = [s for s in valid_sents if len(s)>0 and s[0] != '=']\n",
        "\n",
        "uni_valid_sents = pad_sents(valid_sents, 1)\n",
        "bi_valid_sents = pad_sents(valid_sents, 2)\n",
        "tri_valid_sents = pad_sents(valid_sents, 3)"
      ]
    },
    {
      "cell_type": "code",
      "execution_count": 17,
      "metadata": {
        "id": "u9LK5RmsAjxB"
      },
      "outputs": [],
      "source": [
        "def add_k_smoothing_ngram(ngram, k, num_words, unigram_dic, bigram_dic, trigram_dic):\n",
        "    \"\"\"\n",
        "    params:\n",
        "        ngram: list[str] --- a list that represents n-gram\n",
        "        k: float\n",
        "        num_words: int --- total number of words\n",
        "        unigram_dic: dict{ngram: counts} --- a dictionary that maps each 1-gram to its number of occurences in \"sents\";\n",
        "        bigram_dic: dict{ngram: counts} --- a dictionary that maps each 2-gram to its number of occurence in \"sents\";\n",
        "        trigram_dic: dict{ngram: counts} --- a dictionary that maps each 3-gram to its number occurence in \"sents\";\n",
        "    return:\n",
        "        s_prob: float --- probability of the \"ngram\"\n",
        "    \"\"\"\n",
        "    s_prob = None\n",
        "    V = len(unigram_dic)\n",
        "    ### YOUR CODE HERE\n",
        "    if len(ngram) == 1:\n",
        "        s_prob = (unigram_dic.get(tuple(ngram), 0) + k) / (num_words + k * V)\n",
        "    elif len(ngram) == 2:\n",
        "        s_prob = (bigram_dic.get(tuple(ngram), 0) + k) / (\n",
        "            unigram_dic.get(tuple([ngram[0]]), 0) + k * V\n",
        "        )\n",
        "    elif len(ngram) == 3:\n",
        "        s_prob = (trigram_dic.get(tuple(ngram), 0) + k) / (\n",
        "            bigram_dic.get(tuple(ngram[:2]), 0) + k * V\n",
        "        )\n",
        "    else:\n",
        "        s_prob = \"ngram is invalid\"\n",
        "    ### END OF YOUR CODE\n",
        "    return s_prob\n"
      ]
    },
    {
      "cell_type": "code",
      "execution_count": 18,
      "metadata": {
        "id": "yGN9TQBiAjxC"
      },
      "outputs": [],
      "source": [
        "def interpolation_ngram(ngram, lam, num_words, unigram_dic, bigram_dic, trigram_dic):\n",
        "    \"\"\"\n",
        "    params:\n",
        "        ngram: list[str] --- a list that represents n-gram\n",
        "        lam: list[float] --- a list of length 3.lam[0], lam[1] and lam[2] are correspondence to trigram, bigram and unigram,repectively.\n",
        "                             If len(ngram) == 1, lam[0]=lam[1]=0, lam[2]=1. If len(ngram) == 2, lam[0]=0. lam[0]+lam[1]+lam[2] = 1.\n",
        "        num_words: int --- total number of words\n",
        "        unigram_dic: dict{ngram: counts} --- a dictionary that maps each 1-gram to its number of occurences in \"sents\";\n",
        "        bigram_dic: dict{ngram: counts} --- a dictionary that maps each 2-gram to its number of occurence in \"sents\";\n",
        "        trigram_dic: dict{ngram: counts} --- a dictionary that maps each 3-gram to its number occurence in \"sents\";\n",
        "    return:\n",
        "        s_prob: float --- probability of the \"ngram\"\n",
        "    \"\"\"\n",
        "    s_prob = 0\n",
        "    ### YOUR CODE HERE\n",
        "    size = len(ngram)\n",
        "    for i in range(size):\n",
        "        s_prob += lam[-i - 1] * ngram_prob(\n",
        "            ngram[-i - 1 :], num_words, unigram_dic, bigram_dic, trigram_dic\n",
        "        )\n",
        "\n",
        "    ### END OF YOUR CODE\n",
        "    return s_prob\n"
      ]
    },
    {
      "cell_type": "code",
      "execution_count": 19,
      "metadata": {
        "id": "Mql584ANAjxC",
        "scrolled": true
      },
      "outputs": [
        {
          "name": "stdout",
          "output_type": "stream",
          "text": [
            "['a', 'number', 'of']\n",
            "0.5088395909967428 0.7282499450128033\n"
          ]
        }
      ],
      "source": [
        "add_k_prob = add_k_smoothing_ngram(\n",
        "    ngrams[5], 0.01, num_words, unigram_dict, bigram_dict, trigram_dict\n",
        ")\n",
        "interpolation_prob = interpolation_ngram(\n",
        "    ngrams[5], [0.6, 0.3, 0.1], num_words, unigram_dict, bigram_dict, trigram_dict\n",
        ")\n",
        "print(ngrams[5])\n",
        "print(add_k_prob, interpolation_prob)\n"
      ]
    },
    {
      "cell_type": "code",
      "execution_count": 20,
      "metadata": {
        "id": "G2IIYAnmAjxC"
      },
      "outputs": [],
      "source": [
        "def perplexity(\n",
        "    n,\n",
        "    method,\n",
        "    num_words,\n",
        "    valid_sents,\n",
        "    unigram_dic,\n",
        "    bigram_dic,\n",
        "    trigram_dic,\n",
        "    k=0,\n",
        "    lam=[0, 0, 1],\n",
        "):\n",
        "    \"\"\"\n",
        "     params:\n",
        "         n: int --- n-gram model you choose\n",
        "         method: int ---- method == 0, use add_k_smoothing; method != 0, use interpolation method.\n",
        "         num_words: int --- total number of words\n",
        "         valid_sents: list[list[str]] --- list of sentences\n",
        "         unigram_dic: dict{ngram: counts} --- a dictionary that maps each 1-gram to its number of occurences in \"sents\";\n",
        "         bigram_dic: dict{ngram: counts} --- a dictionary that maps each 2-gram to its number of occurence in \"sents\";\n",
        "         trigram_dic: dict{ngram: counts} --- a dictionary that maps each 3-gram to its number occurence in \"sents\";\n",
        "         k: float --- The parameter of add_k_smoothing\n",
        "         lam: list[float] --- a list of length 3. The parameter of interpolation.\n",
        "    return:\n",
        "         ppl: float --- perplexity of valid_sents\n",
        "    \"\"\"\n",
        "    ppl = None\n",
        "    ### YOUR CODE HERE\n",
        "    prob = 0\n",
        "    ngrams, ngram_dict = compute_ngram(valid_sents, n)\n",
        "    for ngram in ngrams:\n",
        "        if method == 0:\n",
        "            prob += (\n",
        "                np.log2(\n",
        "                    add_k_smoothing_ngram(\n",
        "                        ngram,\n",
        "                        k,\n",
        "                        num_words,\n",
        "                        unigram_dic,\n",
        "                        bigram_dic,\n",
        "                        trigram_dic,\n",
        "                    )\n",
        "                )\n",
        "                * ngram_dict[ngram]\n",
        "            )\n",
        "        else:\n",
        "            prob += (\n",
        "                np.log2(\n",
        "                    interpolation_ngram(\n",
        "                        ngram,\n",
        "                        lam,\n",
        "                        num_words,\n",
        "                        unigram_dic,\n",
        "                        bigram_dic,\n",
        "                        trigram_dic,\n",
        "                    )\n",
        "                )\n",
        "                * ngram_dict[ngram]\n",
        "            )\n",
        "    ppl = 2 ** (prob / num_words * -1)\n",
        "    ### END OF YOUR CODE\n",
        "    return ppl\n"
      ]
    },
    {
      "cell_type": "code",
      "execution_count": 21,
      "metadata": {
        "id": "1QIvZ5JwAjxC"
      },
      "outputs": [
        {
          "data": {
            "text/plain": [
              "2.01675089390637"
            ]
          },
          "execution_count": 21,
          "metadata": {},
          "output_type": "execute_result"
        }
      ],
      "source": [
        "perplexity(\n",
        "    1,\n",
        "    0,\n",
        "    num_words,\n",
        "    uni_valid_sents,\n",
        "    unigram_dict,\n",
        "    bigram_dict,\n",
        "    trigram_dict,\n",
        "    k=0.1,\n",
        "    lam=[0, 0, 1.0],\n",
        ")\n"
      ]
    },
    {
      "cell_type": "markdown",
      "metadata": {
        "id": "X2gU4XEHAjxC"
      },
      "source": [
        "### Question 4 [code][written]\n",
        "1. Based on add-k smoothing method, try out different $k\\in [ 0.0001, 0.001, 0.01, 0.1, 0.5]$ and different n-gram model (unigram, bigram and trigram). Find the model and $k$ that gives the best perplexity on \"**valid_sents**\" (smaller is better).\n",
        "2. Based on interpolation method, try out different $\\lambda$ where $\\lambda_1 = \\lambda_2$ and $\\lambda_3\\in [0.1, 0.2, 0.4, 0.6, 0.8]$. Find the $\\lambda$ that gives the best perplexity on \"**valid_sents**\" (smaller is better).\n",
        "3. Based on the methods and parameters we provide, choose the method that peforms best on the validation data."
      ]
    },
    {
      "cell_type": "code",
      "execution_count": 22,
      "metadata": {
        "id": "7o2VRHDwAjxC"
      },
      "outputs": [
        {
          "name": "stdout",
          "output_type": "stream",
          "text": [
            "{'ppl': 1.9078036007269192, 'n': 2, 'k': 0.001}\n"
          ]
        }
      ],
      "source": [
        "n = [1, 2, 3]\n",
        "k = [0.0001, 0.001, 0.01, 0.1, 0.5]\n",
        "### YOUR CODE HERE (add-k smoothing method)\n",
        "valid_sents\n",
        "aggregated_valid_sents = [uni_valid_sents, bi_valid_sents, tri_valid_sents]\n",
        "best = dict(ppl=10e10, n=-1, k=-1)\n",
        "for choosen_n in n:\n",
        "    for choosen_k in k:\n",
        "        ppl = perplexity(\n",
        "            choosen_n,\n",
        "            0,\n",
        "            num_words,\n",
        "            aggregated_valid_sents[choosen_n - 1],\n",
        "            unigram_dict,\n",
        "            bigram_dict,\n",
        "            trigram_dict,\n",
        "            k=choosen_k,\n",
        "        )\n",
        "        if ppl < best[\"ppl\"]:\n",
        "            best[\"ppl\"] = ppl\n",
        "            best[\"n\"] = choosen_n\n",
        "            best[\"k\"] = choosen_k\n",
        "\n",
        "print(best)\n",
        "### END OF YOUR CODE\n"
      ]
    },
    {
      "cell_type": "code",
      "execution_count": 23,
      "metadata": {
        "id": "7vH8tkU4AjxC"
      },
      "outputs": [
        {
          "name": "stdout",
          "output_type": "stream",
          "text": [
            "{'ppl': 1.8281413356300262, 'lam': [0.4, 0.4, 0.2], 'n': 3}\n"
          ]
        }
      ],
      "source": [
        "n = [1, 2, 3]\n",
        "lambda_3 = [0.1, 0.2, 0.4, 0.6, 0.8]\n",
        "### YOUR CODE HERE (interpolation method)\n",
        "best = dict(ppl=10e10, lam=[], n=-1)\n",
        "aggregated_valid_sents = [uni_valid_sents, bi_valid_sents, tri_valid_sents]\n",
        "for choosen_n in n:\n",
        "    for lambda_1 in lambda_3:\n",
        "        for lambda_2 in lambda_3:\n",
        "            lam = [lambda_1, lambda_1, lambda_2]\n",
        "            if sum(lam) != 1:\n",
        "                continue\n",
        "            ppl = perplexity(\n",
        "                choosen_n,\n",
        "                1,\n",
        "                num_words,\n",
        "                aggregated_valid_sents[choosen_n - 1],\n",
        "                unigram_dict,\n",
        "                bigram_dict,\n",
        "                trigram_dict,\n",
        "                lam=lam,\n",
        "            )\n",
        "            if ppl < best[\"ppl\"]:\n",
        "                best[\"ppl\"] = ppl\n",
        "                best[\"lam\"] = lam\n",
        "                best[\"n\"] = choosen_n\n",
        "\n",
        "print(best)\n",
        "### END OF YOUR CODE\n"
      ]
    },
    {
      "cell_type": "markdown",
      "metadata": {
        "id": "hH2C7dm8AjxC"
      },
      "source": [
        "Based on the methods and parameters we provide, choose the method that peforms best on the validation data (**write your answer**): "
      ]
    },
    {
      "cell_type": "markdown",
      "metadata": {
        "id": "3o_yjh9lCdXg"
      },
      "source": [
        "### Question 5 [code]\n",
        "\n",
        "Evaluate the perplexity of the test data **test_sents** based on the best model you choose in **Question 4**."
      ]
    },
    {
      "cell_type": "code",
      "execution_count": 65,
      "metadata": {
        "id": "i7hGcXgCCdXg"
      },
      "outputs": [],
      "source": [
        "with open('../data/wikitext-2/wiki.test.tokens', 'r', encoding='utf8') as f:\n",
        "    text = f.readlines()\n",
        "    test_sents = [line.lower().strip('\\n').split() for line in text]\n",
        "    test_sents = [s for s in test_sents if len(s)>0 and s[0] != '=']\n",
        "\n",
        "uni_test_sents = pad_sents(test_sents, 1)\n",
        "bi_test_sents = pad_sents(test_sents, 2)\n",
        "tri_test_sents = pad_sents(test_sents, 3)"
      ]
    },
    {
      "cell_type": "code",
      "execution_count": 66,
      "metadata": {
        "id": "S7hZU0RJAjxD"
      },
      "outputs": [
        {
          "data": {
            "text/plain": [
              "137.97200474401626"
            ]
          },
          "execution_count": 66,
          "metadata": {},
          "output_type": "execute_result"
        }
      ],
      "source": [
        "### YOUR CODE HERE\n",
        "lam = [0.4, 0.4, 0.2]\n",
        "n = (3,)\n",
        "num_test_words = sum([len(s) for s in test_sents])\n",
        "perplexity(\n",
        "    3, 1, num_test_words, tri_test_sents, unigram_dict, bigram_dict, trigram_dict, lam=lam\n",
        ")\n",
        "### END OF YOUR CODE\n"
      ]
    },
    {
      "cell_type": "markdown",
      "metadata": {
        "id": "ePSI8RDWCdXj"
      },
      "source": [
        "## Neural Language Model\n"
      ]
    },
    {
      "cell_type": "markdown",
      "metadata": {
        "id": "jkoTco_jCdXj"
      },
      "source": [
        "<img src=\"images/LM.png\" alt=\"drawing\" style=\"width:500px;\"/>\n",
        "\n",
        "We will create a LSTM language model as shown in figure and train it on the Wikitext-2 dataset. \n",
        "The data generators (train\\_iter, valid\\_iter, test\\_iter) have been provided. \n",
        "The word embeddings together with the parameters in the LSTM model will be learned from scratch.\n",
        "\n",
        "[Pytorch](https://pytorch.org/tutorials/) and [torchtext](https://torchtext.readthedocs.io/en/latest/index.html#) are required in this part. Do not make any changes to the provided code unless you are requested to do so. "
      ]
    },
    {
      "cell_type": "markdown",
      "metadata": {
        "id": "CoRoQvk0AjxD"
      },
      "source": [
        "### Question 6 [code]\n",
        "- Implement the ``__init__`` function in ``LangModel`` class. *Note: the code implementation should allow switching between unidirectional LSTM and bidirectional LSTM easily*\n",
        "- Implement the ``forward`` function in ``LangModel`` class.\n",
        "- Complete the training code in train function and the testing code in test function.\n",
        "- Train two models - **Unidirectional LSTM** and **Bidirectional LSTM**. Compute the perplexity of the test data \"test_iter\" using the trained models. The test perplexity of both trained models should be below 150."
      ]
    },
    {
      "cell_type": "markdown",
      "metadata": {
        "id": "SCE8JCUqAjxD"
      },
      "source": [
        "**Important Note: Make sure that \"torchtext <= 0.11\", as newer version might have torchtext.legacy removed**"
      ]
    },
    {
      "cell_type": "code",
      "execution_count": 3,
      "metadata": {
        "colab": {
          "base_uri": "https://localhost:8080/"
        },
        "id": "9GbfDE3LBJgK",
        "outputId": "d920f5d9-58bb-4ec5-cbb6-2cff71a4fcdf"
      },
      "outputs": [
        {
          "name": "stdout",
          "output_type": "stream",
          "text": [
            "Requirement already satisfied: torchtext==0.11.2 in c:\\users\\dodys\\anaconda3\\envs\\nlp-t8-2\\lib\\site-packages (0.11.2)\n",
            "Collecting nltk\n",
            "  Downloading nltk-3.7-py3-none-any.whl (1.5 MB)\n",
            "Requirement already satisfied: requests in c:\\users\\dodys\\anaconda3\\envs\\nlp-t8-2\\lib\\site-packages (from torchtext==0.11.2) (2.28.0)\n",
            "Requirement already satisfied: numpy in c:\\users\\dodys\\anaconda3\\envs\\nlp-t8-2\\lib\\site-packages (from torchtext==0.11.2) (1.22.4)\n",
            "Requirement already satisfied: tqdm in c:\\users\\dodys\\anaconda3\\envs\\nlp-t8-2\\lib\\site-packages (from torchtext==0.11.2) (4.64.0)\n",
            "Requirement already satisfied: torch==1.10.2 in c:\\users\\dodys\\anaconda3\\envs\\nlp-t8-2\\lib\\site-packages (from torchtext==0.11.2) (1.10.2)\n",
            "Requirement already satisfied: typing-extensions in c:\\users\\dodys\\anaconda3\\envs\\nlp-t8-2\\lib\\site-packages (from torch==1.10.2->torchtext==0.11.2) (4.1.1)\n",
            "Collecting click\n",
            "  Downloading click-8.1.3-py3-none-any.whl (96 kB)\n",
            "Collecting joblib\n",
            "  Downloading joblib-1.1.0-py2.py3-none-any.whl (306 kB)\n",
            "Collecting regex>=2021.8.3\n",
            "  Downloading regex-2022.6.2-cp39-cp39-win_amd64.whl (262 kB)\n",
            "Requirement already satisfied: colorama in c:\\users\\dodys\\anaconda3\\envs\\nlp-t8-2\\lib\\site-packages (from click->nltk) (0.4.4)\n",
            "Requirement already satisfied: urllib3<1.27,>=1.21.1 in c:\\users\\dodys\\anaconda3\\envs\\nlp-t8-2\\lib\\site-packages (from requests->torchtext==0.11.2) (1.26.9)\n",
            "Requirement already satisfied: idna<4,>=2.5 in c:\\users\\dodys\\anaconda3\\envs\\nlp-t8-2\\lib\\site-packages (from requests->torchtext==0.11.2) (3.3)\n",
            "Requirement already satisfied: charset-normalizer~=2.0.0 in c:\\users\\dodys\\anaconda3\\envs\\nlp-t8-2\\lib\\site-packages (from requests->torchtext==0.11.2) (2.0.12)\n",
            "Requirement already satisfied: certifi>=2017.4.17 in c:\\users\\dodys\\anaconda3\\envs\\nlp-t8-2\\lib\\site-packages (from requests->torchtext==0.11.2) (2022.5.18.1)\n",
            "Installing collected packages: regex, joblib, click, nltk\n",
            "Successfully installed click-8.1.3 joblib-1.1.0 nltk-3.7 regex-2022.6.2\n"
          ]
        }
      ],
      "source": [
        "!pip install torchtext==0.11.2 nltk"
      ]
    },
    {
      "cell_type": "code",
      "execution_count": 4,
      "metadata": {
        "colab": {
          "base_uri": "https://localhost:8080/"
        },
        "id": "tF2GCRdFCdXk",
        "outputId": "907f2922-4c57-4c36-bb37-c448b33fbdfb"
      },
      "outputs": [
        {
          "name": "stderr",
          "output_type": "stream",
          "text": [
            "[nltk_data] Downloading package punkt to\n",
            "[nltk_data]     C:\\Users\\dodys\\AppData\\Roaming\\nltk_data...\n",
            "[nltk_data]   Package punkt is already up-to-date!\n"
          ]
        },
        {
          "data": {
            "text/plain": [
              "<torch._C.Generator at 0x295d8883ed0>"
            ]
          },
          "execution_count": 4,
          "metadata": {},
          "output_type": "execute_result"
        }
      ],
      "source": [
        "import torchtext\n",
        "import torch\n",
        "import torch.nn.functional as F\n",
        "from torchtext.legacy.datasets import WikiText2\n",
        "from torch import nn, optim\n",
        "from torchtext.legacy import data\n",
        "from nltk import word_tokenize\n",
        "import nltk\n",
        "import math\n",
        "nltk.download('punkt')\n",
        "torch.manual_seed(222)"
      ]
    },
    {
      "cell_type": "code",
      "execution_count": 5,
      "metadata": {
        "colab": {
          "base_uri": "https://localhost:8080/"
        },
        "id": "lt6JBdSnCdXn",
        "outputId": "b2272fea-4cb0-4f69-c243-61d37a7e7559"
      },
      "outputs": [],
      "source": [
        "def tokenizer(text):\n",
        "    '''Tokenize a string to words'''\n",
        "    return word_tokenize(text)\n",
        "\n",
        "START = '<START>'\n",
        "STOP = '<STOP>'\n",
        "#Load and split data into three parts\n",
        "TEXT = data.Field(lower=True, tokenize=tokenizer, init_token=START, eos_token=STOP)\n",
        "train, valid, test = WikiText2.splits(TEXT) "
      ]
    },
    {
      "cell_type": "code",
      "execution_count": 9,
      "metadata": {
        "colab": {
          "base_uri": "https://localhost:8080/"
        },
        "id": "KHwu4VMVCdXq",
        "outputId": "dade92b0-d221-424f-bf3c-f1528016feb4"
      },
      "outputs": [
        {
          "name": "stdout",
          "output_type": "stream",
          "text": [
            "Vocabulary size: 28907\n"
          ]
        }
      ],
      "source": [
        "#Build a vocabulary from the train dataset\n",
        "TEXT.build_vocab(train)\n",
        "print('Vocabulary size:', len(TEXT.vocab))"
      ]
    },
    {
      "cell_type": "code",
      "execution_count": 10,
      "metadata": {
        "id": "ua9e-OBMCdXs"
      },
      "outputs": [],
      "source": [
        "BATCH_SIZE = 64\n",
        "# the length of a text feeding to the RNN layer\n",
        "BPTT_LEN = 32           \n",
        "# train, validation, test data\n",
        "train_iter, valid_iter, test_iter = data.BPTTIterator.splits((train, valid, test),\n",
        "                                                                batch_size=BATCH_SIZE,\n",
        "                                                                bptt_len=BPTT_LEN,\n",
        "                                                                repeat=False)"
      ]
    },
    {
      "cell_type": "code",
      "execution_count": 11,
      "metadata": {
        "colab": {
          "base_uri": "https://localhost:8080/"
        },
        "id": "6_Cd8shXCdXy",
        "outputId": "d1e6a1c2-5255-47a0-ff7d-abed3371cc91",
        "scrolled": true
      },
      "outputs": [
        {
          "name": "stdout",
          "output_type": "stream",
          "text": [
            "Size of text tensor torch.Size([32, 64])\n",
            "Size of target tensor torch.Size([32, 64])\n"
          ]
        }
      ],
      "source": [
        "#Generate a batch of train data\n",
        "batch = next(iter(train_iter))\n",
        "text, target = batch.text, batch.target\n",
        "print('Size of text tensor',text.size())\n",
        "print('Size of target tensor',target.size())"
      ]
    },
    {
      "cell_type": "code",
      "execution_count": 12,
      "metadata": {
        "id": "AuwPI2JOAjxD"
      },
      "outputs": [],
      "source": [
        "class LangModel(nn.Module):\n",
        "    def __init__(self, lang_config):\n",
        "        super(LangModel, self).__init__()\n",
        "        self.vocab_size = lang_config[\"vocab_size\"]\n",
        "        self.emb_size = lang_config[\"emb_size\"]\n",
        "        self.hidden_size = lang_config[\"hidden_size\"]\n",
        "        self.num_layer = lang_config[\"num_layer\"]\n",
        "\n",
        "        self.bidirectional = lang_config[\"bidirectional\"]\n",
        "\n",
        "        self.embedding = None\n",
        "        self.lstm = None\n",
        "        self.linear = None\n",
        "\n",
        "        ### TODO:\n",
        "        ###    1. Initialize 'self.embedding' with nn.Embedding function and 2 variables we have initialized for you\n",
        "        ###    2. Initialize 'self.lstm' with nn.LSTM function and 4 variables we have initialized for you\n",
        "        ###    3. Initialize 'self.linear' with nn.Linear function and 2 variables we have initialized for you\n",
        "        ### Reference:\n",
        "        ###        https://pytorch.org/docs/stable/nn.html\n",
        "\n",
        "        ### YOUR CODE HERE (3 lines)\n",
        "        self.embedding = nn.Embedding(self.vocab_size, self.emb_size)\n",
        "        self.lstm = nn.LSTM(self.emb_size, self.hidden_size, self.num_layer, bidirectional=self.bidirectional)\n",
        "        self.linear = nn.Linear(self.hidden_size * (1 + self.bidirectional), self.vocab_size)\n",
        "        ### END OF YOUR CODE\n",
        "\n",
        "    def forward(self, batch_sents, hidden=None):\n",
        "        \"\"\"\n",
        "        params:\n",
        "            batch_sents: torch.LongTensor of shape (sequence_len, batch_size)\n",
        "        return:\n",
        "            normalized_score: torch.FloatTensor of shape (sequence_len, batch_size, vocab_size)\n",
        "        \"\"\"\n",
        "        normalized_score = None\n",
        "        hidden = hidden\n",
        "        ### TODO:\n",
        "        ###      1. Feed the batch_sents to self.embedding\n",
        "        ###      2. Feed the embeddings to self.lstm. Remember to pass \"hidden\" into self.lstm, even if it is None. But we will\n",
        "        ###         use \"hidden\" when implementing greedy search.\n",
        "        ###      3. Apply linear transformation to the output of self.lstm\n",
        "        ###      4. Apply 'F.log_softmax' to the output of linear transformation\n",
        "        ###\n",
        "        ### YOUR CODE HERE (4 lines)\n",
        "        embeddings = self.embedding(batch_sents)\n",
        "        output, hidden = self.lstm(embeddings, hidden)\n",
        "        output = self.linear(output)\n",
        "        normalized_score = F.log_softmax(output, dim=2) #dody check dimension again\n",
        "        ### END OF YOUR CODE\n",
        "        return normalized_score, hidden\n"
      ]
    },
    {
      "cell_type": "code",
      "execution_count": 13,
      "metadata": {
        "id": "1_7ZYCrNAjxD"
      },
      "outputs": [],
      "source": [
        "def train(model, train_iter, valid_iter, vocab_size, criterion, optimizer, num_epochs):\n",
        "    for n in range(num_epochs):\n",
        "        train_loss = 0\n",
        "        target_num = 0\n",
        "        model.train()\n",
        "        for batch in train_iter:\n",
        "\n",
        "            text, targets = batch.text.to(device), batch.target.to(device)\n",
        "            loss = None\n",
        "\n",
        "            ### we don't consider \"hidden\" here. So according to the default setting, \"hidden\" will be None\n",
        "            ### YOU CODE HERE (~5 lines)\n",
        "            optimizer.zero_grad()\n",
        "            prediction, _ = model(text)\n",
        "            loss = criterion(prediction.view(-1, vocab_size), targets.view(-1))\n",
        "            loss.backward()\n",
        "            optimizer.step()\n",
        "            ### END OF YOUR CODE\n",
        "            ##########################################\n",
        "            train_loss += loss.item() * targets.size(0) * targets.size(1)\n",
        "            target_num += targets.size(0) * targets.size(1)\n",
        "\n",
        "        train_loss /= target_num\n",
        "\n",
        "        # monitor the loss of all the predictions\n",
        "        val_loss = 0\n",
        "        target_num = 0\n",
        "        model.eval()\n",
        "        for batch in valid_iter:\n",
        "            text, targets = batch.text.to(device), batch.target.to(device)\n",
        "\n",
        "            prediction, _ = model(text)\n",
        "            loss = criterion(prediction.view(-1, vocab_size), targets.view(-1))\n",
        "\n",
        "            val_loss += loss.item() * targets.size(0) * targets.size(1)\n",
        "            target_num += targets.size(0) * targets.size(1)\n",
        "        val_loss /= target_num\n",
        "\n",
        "        print(\n",
        "            \"Epoch: {}, Training Loss: {:.4f}, Validation Loss: {:.4f}\".format(\n",
        "                n + 1, train_loss, val_loss\n",
        "            )\n",
        "        )\n"
      ]
    },
    {
      "cell_type": "code",
      "execution_count": 14,
      "metadata": {
        "id": "vDFGxg0pAjxD"
      },
      "outputs": [],
      "source": [
        "def test(model, vocab_size, criterion, test_iter):\n",
        "    \"\"\"\n",
        "    params:\n",
        "        model: LSTM model\n",
        "        test_iter: test data\n",
        "    return:\n",
        "        ppl: perplexity\n",
        "    \"\"\"\n",
        "    ppl = None\n",
        "    test_loss = 0\n",
        "    target_num = 0\n",
        "    with torch.no_grad():\n",
        "        for batch in test_iter:\n",
        "            text, targets = batch.text.to(device), batch.target.to(device)\n",
        "\n",
        "            prediction, _ = model(text)\n",
        "            loss = criterion(prediction.view(-1, vocab_size), targets.view(-1))\n",
        "\n",
        "            test_loss += loss.item() * targets.size(0) * targets.size(1)\n",
        "            target_num += targets.size(0) * targets.size(1)\n",
        "\n",
        "        test_loss /= target_num\n",
        "\n",
        "        ### Compute perplexity according to \"test_loss\"\n",
        "        ### Hint: Consider how the loss is computed.\n",
        "        ### YOUR CODE HERE(1 line)\n",
        "        ppl = math.exp(test_loss)\n",
        "        ### END OF YOUR CODE\n",
        "        return ppl\n"
      ]
    },
    {
      "cell_type": "code",
      "execution_count": 15,
      "metadata": {
        "id": "nZcH-pGXAjxE"
      },
      "outputs": [],
      "source": [
        "num_epochs=10\n",
        "device = torch.device(\"cuda\" if torch.cuda.is_available() else \"cpu\")\n",
        "vocab_size = len(TEXT.vocab)"
      ]
    },
    {
      "cell_type": "code",
      "execution_count": 16,
      "metadata": {
        "id": "LetF5z33AjxE"
      },
      "outputs": [],
      "source": [
        "config = {\n",
        "    'vocab_size':vocab_size,\n",
        "    'emb_size':128,\n",
        "    'hidden_size':128,\n",
        "    'num_layer':1,\n",
        "    'bidirectional': False\n",
        "}\n",
        "\n",
        "LM = LangModel(config)\n",
        "LM = LM.to(device)\n",
        "\n",
        "criterion = nn.NLLLoss(reduction='mean')\n",
        "optimizer = optim.Adam(LM.parameters(), lr=1e-3, betas=(0.7, 0.99))"
      ]
    },
    {
      "cell_type": "code",
      "execution_count": 17,
      "metadata": {
        "colab": {
          "base_uri": "https://localhost:8080/"
        },
        "id": "YrXnIqKfAjxE",
        "outputId": "9ee02dcc-b398-47d9-865b-847690e53de4"
      },
      "outputs": [],
      "source": [
        "train(LM, train_iter, valid_iter, vocab_size, criterion, optimizer, num_epochs)"
      ]
    },
    {
      "cell_type": "code",
      "execution_count": 13,
      "metadata": {
        "colab": {
          "base_uri": "https://localhost:8080/"
        },
        "id": "aqK2NrY0AjxE",
        "outputId": "fdba52a5-377d-4903-ca49-3e07527ec8ea"
      },
      "outputs": [
        {
          "data": {
            "text/plain": [
              "99.30294279118066"
            ]
          },
          "execution_count": 13,
          "metadata": {},
          "output_type": "execute_result"
        }
      ],
      "source": [
        "test(LM, vocab_size, criterion, test_iter)"
      ]
    },
    {
      "cell_type": "code",
      "execution_count": 14,
      "metadata": {
        "id": "2hMULDQjAjxE"
      },
      "outputs": [],
      "source": [
        "config = {\n",
        "    'vocab_size':vocab_size,\n",
        "    'emb_size':128,\n",
        "    'hidden_size':128,\n",
        "    'num_layer':1,\n",
        "    'bidirectional': True\n",
        "}\n",
        "\n",
        "biLSTM = LangModel(config)\n",
        "biLSTM = biLSTM.to(device)\n",
        "\n",
        "criterion = nn.NLLLoss(reduction='mean')\n",
        "optimizer = optim.Adam(biLSTM.parameters(), lr=1e-3, betas=(0.7, 0.99))"
      ]
    },
    {
      "cell_type": "code",
      "execution_count": 15,
      "metadata": {
        "colab": {
          "base_uri": "https://localhost:8080/"
        },
        "id": "p1ozfIJnAjxE",
        "outputId": "bf16159d-52bf-417e-885f-2fea6447753c"
      },
      "outputs": [
        {
          "name": "stdout",
          "output_type": "stream",
          "text": [
            "Epoch: 1, Training Loss: 3.1737, Validation Loss: 1.3003\n",
            "Epoch: 2, Training Loss: 0.9979, Validation Loss: 0.6368\n",
            "Epoch: 3, Training Loss: 0.5144, Validation Loss: 0.4418\n",
            "Epoch: 4, Training Loss: 0.3228, Validation Loss: 0.3504\n",
            "Epoch: 5, Training Loss: 0.2295, Validation Loss: 0.3047\n",
            "Epoch: 6, Training Loss: 0.1833, Validation Loss: 0.2809\n",
            "Epoch: 7, Training Loss: 0.1582, Validation Loss: 0.2686\n",
            "Epoch: 8, Training Loss: 0.1423, Validation Loss: 0.2609\n",
            "Epoch: 9, Training Loss: 0.1308, Validation Loss: 0.2565\n",
            "Epoch: 10, Training Loss: 0.1217, Validation Loss: 0.2535\n"
          ]
        }
      ],
      "source": [
        "train(biLSTM, train_iter, valid_iter, vocab_size, criterion, optimizer, num_epochs)"
      ]
    },
    {
      "cell_type": "code",
      "execution_count": 16,
      "metadata": {
        "colab": {
          "base_uri": "https://localhost:8080/"
        },
        "id": "VcAreLsfAjxE",
        "outputId": "eddc6d5f-8488-4d02-d170-6993d4e07594"
      },
      "outputs": [
        {
          "data": {
            "text/plain": [
              "1.2745250712413583"
            ]
          },
          "execution_count": 16,
          "metadata": {},
          "output_type": "execute_result"
        }
      ],
      "source": [
        "test(biLSTM, vocab_size, criterion, test_iter)"
      ]
    },
    {
      "cell_type": "markdown",
      "metadata": {
        "id": "bH9WYu4eAjxE"
      },
      "source": [
        "### Question 7 [code][written]\n",
        "<img src=\"images/greedy.png\" alt=\"drawing\" style=\"width:500px;\"/>\n",
        "\n",
        "When we use trained language model to generate a sentence given a start token, we can choose ``greedy search``.\n",
        "\n",
        "As shown above, ``greedy search`` algorithm will pick the token which has the highest probability and feed it to the language model as input in the next time step. The model will generate ``max_len`` number of tokens at most.\n",
        "\n",
        "- Implement ``word_greedy_search``"
      ]
    },
    {
      "cell_type": "code",
      "execution_count": 17,
      "metadata": {
        "id": "NRqO_ra_AjxE"
      },
      "outputs": [],
      "source": [
        "def word_greedy_search(model, start_token, max_len):\n",
        "    '''\n",
        "    param:\n",
        "        model: nn.Module --- language model\n",
        "        start_token: str --- e.g. 'he'\n",
        "        max_len: int --- max number of tokens generated\n",
        "    return:\n",
        "        strings: list[str] --- list of tokens, e.g., ['he', 'was', 'a', 'member', 'of',...]\n",
        "    '''\n",
        "    model.eval()\n",
        "    ID = TEXT.vocab.stoi[start_token]\n",
        "    strings = [start_token]\n",
        "    hidden = None\n",
        "    \n",
        "    ### You may find TEXT.vocab.itos useful.\n",
        "    ### YOUR CODE HERE\n",
        "    end = TEXT.vocab.stoi[\"<eos>\"]\n",
        "    print(strings)\n",
        "    i = len(strings)\n",
        "    while i < max_len and ID != end:\n",
        "        text = torch.LongTensor([[ID]]).to(device)\n",
        "        output, hidden = model(text, hidden)\n",
        "        # to get the maximum output\n",
        "        ID = torch.argmax(output).item()\n",
        "        strings.append(TEXT.vocab.itos[ID])\n",
        "        i += 1\n",
        "    ### END OF YOUR CODE \n",
        "    print(strings)    "
      ]
    },
    {
      "cell_type": "markdown",
      "metadata": {
        "id": "q-5ZlSlgcZLj"
      },
      "source": []
    },
    {
      "cell_type": "code",
      "execution_count": 18,
      "metadata": {
        "colab": {
          "base_uri": "https://localhost:8080/"
        },
        "id": "SCOXHJy7AjxE",
        "outputId": "1717632f-1f46-4535-f339-1575e0130571"
      },
      "outputs": [
        {
          "name": "stdout",
          "output_type": "stream",
          "text": [
            "['he']\n",
            "['he', 'was', 'a', 'member', 'of', 'the', '<', 'unk', '>', ',', 'and', 'the', '<', 'unk', '>', '<', 'unk', '>', ',', 'the', '<', 'unk', '>', '<', 'unk', '>', ',', '<', 'unk', '>', ',', '<', 'unk', '>', ',', '<', 'unk', '>', ',', '<', 'unk', '>', ',', '<', 'unk', '>', ',', '<', 'unk', '>', ',', '<', 'unk', '>', ',', '<', 'unk', '>', ',', '<', 'unk', '>', ',', '<']\n"
          ]
        }
      ],
      "source": [
        "word_greedy_search(LM, 'he', 64)"
      ]
    },
    {
      "cell_type": "markdown",
      "metadata": {
        "id": "whaIXQveAjxE"
      },
      "source": [
        "#### Review Question: Based on your understanding, can we use the **Bidirectional LSTM** for this language generation (decoding) task? Explain why?"
      ]
    },
    {
      "cell_type": "markdown",
      "metadata": {
        "id": "luPNCr8TAjxE"
      },
      "source": [
        "**write your explanation:**"
      ]
    },
    {
      "cell_type": "markdown",
      "metadata": {
        "id": "LdA5XAlaAjxE"
      },
      "source": [
        "### Question 8 [code][written]\n",
        "- We will use the hidden vectors (the working memory) of LSTM as the contextual embeddings. Implement ``contextual_embedding`` function.\n",
        "- Use the ``contextual_embedding`` function to get the contextual embeddings of the word \"sink\" in four sequences \"wood does not sink in water\", \"a small water leak will sink the ship\", \"there are plates in the kitchen sink\" and \"the kitchen sink was full of dirty dishes\". Then calculate the cosine similarity of \"sink\" from each pair of sequences. Assume that $\\boldsymbol{w}_1$ and $\\boldsymbol{w}_2$ are embeddings of \"sink\" in sequences \"wood does not sink in water\" and \"a small water leak will sink the ship\" respectively. The cosine similarity can be calculated as \n",
        "\n",
        "\\begin{align}\n",
        "similarity = cos(\\theta) = \\frac{\\boldsymbol{w}^{\\rm T}_1\\boldsymbol{w}_2}{||\\boldsymbol{w}_1||_2||\\boldsymbol{w}_2||_2}\n",
        "\\end{align}\n",
        "Give the explanation of the results. "
      ]
    },
    {
      "cell_type": "code",
      "execution_count": 19,
      "metadata": {
        "id": "Sg0iqgEKAjxE"
      },
      "outputs": [],
      "source": [
        "def contextual_embedding(model, sentence):\n",
        "    \"\"\"\n",
        "    params:\n",
        "        model: nn.Module --- language model\n",
        "        sentence -- list[str]: list of tokens, e.g., ['I', 'am',...]\n",
        "    return:\n",
        "        embeddings -- numpy array of shape (length of sentence, word embedding size)\n",
        "    \"\"\"\n",
        "    model.eval()\n",
        "\n",
        "    ### YOUR CODE HERE\n",
        "    seq = []\n",
        "    for word in sentence.split():\n",
        "        seq.append([TEXT.vocab.stoi[word]])\n",
        "        if word == \"sink\":\n",
        "            break\n",
        "    seq = torch.LongTensor(seq).to(device)\n",
        "    _, (h, __file__) = model(seq)\n",
        "\n",
        "    embeddings = h[0]\n",
        "    ### END OF YOUR CODE\n",
        "    return embeddings\n"
      ]
    },
    {
      "cell_type": "code",
      "execution_count": 20,
      "metadata": {
        "colab": {
          "base_uri": "https://localhost:8080/"
        },
        "id": "FO2uBXObAjxE",
        "outputId": "5cd6e613-61d9-4651-8b46-1fe964cbd665"
      },
      "outputs": [
        {
          "name": "stdout",
          "output_type": "stream",
          "text": [
            "1 2 tensor([0.7897], device='cuda:0', grad_fn=<DivBackward0>)\n",
            "1 3 tensor([0.5950], device='cuda:0', grad_fn=<DivBackward0>)\n",
            "1 4 tensor([0.5736], device='cuda:0', grad_fn=<DivBackward0>)\n",
            "2 3 tensor([0.6297], device='cuda:0', grad_fn=<DivBackward0>)\n",
            "2 4 tensor([0.5674], device='cuda:0', grad_fn=<DivBackward0>)\n",
            "3 4 tensor([0.8567], device='cuda:0', grad_fn=<DivBackward0>)\n"
          ]
        }
      ],
      "source": [
        "sink_seq1 = \"wood does not sink in water\"\n",
        "sink_seq2 = \"a small water leak will sink the ship\"\n",
        "sink_seq3 = \"there are plates in the kitchen sink\"\n",
        "sink_seq4 = \"the kitchen sink was full of dirty dishes\"\n",
        "### YOUR CODE HERE \n",
        "\n",
        "ts = []\n",
        "ts.append(contextual_embedding(LM, sink_seq1))\n",
        "ts.append(contextual_embedding(LM, sink_seq2))\n",
        "ts.append(contextual_embedding(LM, sink_seq3))\n",
        "ts.append(contextual_embedding(LM, sink_seq4))\n",
        "\n",
        "cos = torch.nn.CosineSimilarity(dim=1, eps=1e-6)\n",
        "\n",
        "for i in range(4):\n",
        "  for j in range(i,4):\n",
        "    if i != j:\n",
        "      print(i+1,j+1,cos(ts[i],ts[j]))\n",
        "### END OF YOUR CODE"
      ]
    },
    {
      "cell_type": "markdown",
      "metadata": {
        "id": "pgMo57uBAjxE"
      },
      "source": [
        "***write your explanation:***"
      ]
    },
    {
      "cell_type": "markdown",
      "metadata": {
        "id": "Tg6wP8pxAjxE"
      },
      "source": [
        "#### Review Question: Based on your understanding, can we use the **Bidirectional LSTM** for this contextual embedding task? Explain why?"
      ]
    },
    {
      "cell_type": "markdown",
      "metadata": {
        "id": "BulmT3IBAjxE"
      },
      "source": [
        "**write your explanation:**"
      ]
    },
    {
      "cell_type": "markdown",
      "metadata": {
        "id": "cernoBq6CdX9"
      },
      "source": [
        "### Requirements:\n",
        "- This is an individual report.\n",
        "- Complete the code using Python.\n",
        "- List students with whom you have discussed if there are any.\n",
        "- Follow the honor code strictly."
      ]
    },
    {
      "cell_type": "markdown",
      "metadata": {
        "id": "bDOUuC7-CdX-"
      },
      "source": [
        "### Free GPU Resources\n",
        "We suggest that you run neural language models on machines with GPU(s). Google provides the free online platform [Colaboratory](https://colab.research.google.com/notebooks/welcome.ipynb), a research tool for machine learning education and research. It’s a Jupyter notebook environment that requires no setup to use as common packages have been  pre-installed. Google users can have access to a Tesla T4 GPU (approximately 15G memory). Note that when you connect to a GPU-based VM runtime, you are given a maximum of 12 hours at a time on the VM.\n",
        "\n",
        "It is convenient to upload local Jupyter Notebook files and data to Colab, please refer to the [tutorial](https://colab.research.google.com/notebooks/io.ipynb). \n",
        "\n",
        "In addition, Microsoft also provides the online platform [Azure Notebooks](https://notebooks.azure.com/help/introduction) for research of data science and machine learning, there are free trials for new users with credits."
      ]
    }
  ],
  "metadata": {
    "accelerator": "GPU",
    "colab": {
      "collapsed_sections": [
        "2kAezpJ9CdXd",
        "X2gU4XEHAjxC",
        "3o_yjh9lCdXg",
        "cernoBq6CdX9",
        "bDOUuC7-CdX-"
      ],
      "name": "mini_project.ipynb",
      "provenance": []
    },
    "interpreter": {
      "hash": "b2a4c03de4558ef5a607eb077c8ee8a6fae43eb49b3aff39fb8abe80b4d90c52"
    },
    "kernelspec": {
      "display_name": "Python 3 (ipykernel)",
      "language": "python",
      "name": "python3"
    },
    "language_info": {
      "codemirror_mode": {
        "name": "ipython",
        "version": 3
      },
      "file_extension": ".py",
      "mimetype": "text/x-python",
      "name": "python",
      "nbconvert_exporter": "python",
      "pygments_lexer": "ipython3",
      "version": "3.9.13"
    }
  },
  "nbformat": 4,
  "nbformat_minor": 0
}
